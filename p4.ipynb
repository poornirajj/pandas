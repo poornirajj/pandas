{
 "cells": [
  {
   "cell_type": "code",
   "execution_count": 3,
   "id": "2c163d0c",
   "metadata": {},
   "outputs": [
    {
     "name": "stdout",
     "output_type": "stream",
     "text": [
      "Initial data shape: (5, 6)\n",
      "\n",
      "Missing values:\n",
      " Feedback_ID       0\n",
      "Customer_ID       4\n",
      "Feedback_Text     4\n",
      "Rating            4\n",
      "Date_Submitted    4\n",
      "Channel           4\n",
      "dtype: int64\n",
      "✅ Cleaning complete. Cleaned data saved to 'cleaned_customer_feedback.csv'\n"
     ]
    },
    {
     "name": "stderr",
     "output_type": "stream",
     "text": [
      "C:\\Users\\Ayyappan\\AppData\\Local\\Temp\\ipykernel_10096\\3555003929.py:24: FutureWarning: A value is trying to be set on a copy of a DataFrame or Series through chained assignment using an inplace method.\n",
      "The behavior will change in pandas 3.0. This inplace method will never work because the intermediate object on which we are setting values always behaves as a copy.\n",
      "\n",
      "For example, when doing 'df[col].method(value, inplace=True)', try using 'df.method({col: value}, inplace=True)' or df[col] = df[col].method(value) instead, to perform the operation inplace on the original object.\n",
      "\n",
      "\n",
      "  df['Date_Submitted'].fillna(most_common_date, inplace=True)\n"
     ]
    }
   ],
   "source": [
    "import pandas as pd\n",
    "\n",
    "# 1. Load the dataset\n",
    "df = pd.read_csv('customer_feedback.csv')\n",
    "\n",
    "# 2. View initial info\n",
    "print(\"Initial data shape:\", df.shape)\n",
    "print(\"\\nMissing values:\\n\", df.isnull().sum())\n",
    "\n",
    "# 3. Remove duplicate feedback entries\n",
    "df.drop_duplicates(inplace=True)\n",
    "\n",
    "# 4. Drop rows where Feedback_Text is missing (essential for sentiment analysis)\n",
    "df.dropna(subset=['Feedback_Text'], inplace=True)\n",
    "\n",
    "# 5. Fill missing Rating with a neutral score (e.g., 3) if it's required\n",
    "df['Rating'] = df['Rating'].fillna(3)\n",
    "\n",
    "# 6. Normalize Date_Submitted format\n",
    "df['Date_Submitted'] = pd.to_datetime(df['Date_Submitted'], errors='coerce')\n",
    "\n",
    "# 7. Handle missing or invalid dates\n",
    "most_common_date = df['Date_Submitted'].mode()[0]\n",
    "df['Date_Submitted'].fillna(most_common_date, inplace=True)\n",
    "\n",
    "# 8. Standardize Feedback_Text\n",
    "df['Feedback_Text'] = df['Feedback_Text'].str.strip().str.lower()\n",
    "\n",
    "# 9. Correct common typos or slang (basic example)\n",
    "typo_map = {\n",
    "    'luvd': 'loved',\n",
    "    'gr8': 'great',\n",
    "    'awsm': 'awesome',\n",
    "    'bttr': 'better',\n",
    "}\n",
    "def fix_typos(text):\n",
    "    for typo, correct in typo_map.items():\n",
    "        text = text.replace(typo, correct)\n",
    "    return text\n",
    "\n",
    "df['Feedback_Text'] = df['Feedback_Text'].apply(fix_typos)\n",
    "\n",
    "# 10. Capitalize Channel names for consistency\n",
    "df['Channel'] = df['Channel'].str.title().str.strip()\n",
    "\n",
    "# 11. Convert Feedback_ID and Customer_ID to string (for consistency)\n",
    "df['Feedback_ID'] = df['Feedback_ID'].astype(str)\n",
    "df['Customer_ID'] = df['Customer_ID'].astype(str)\n",
    "\n",
    "# 12. Sort by Date_Submitted\n",
    "df.sort_values(by='Date_Submitted', inplace=True)\n",
    "\n",
    "# 13. Save cleaned data\n",
    "df.to_csv('cleaned_customer_feedback.csv', index=False)\n",
    "\n",
    "print(\"✅ Cleaning complete. Cleaned data saved to 'cleaned_customer_feedback.csv'\")\n"
   ]
  }
 ],
 "metadata": {
  "kernelspec": {
   "display_name": "Python 3",
   "language": "python",
   "name": "python3"
  },
  "language_info": {
   "codemirror_mode": {
    "name": "ipython",
    "version": 3
   },
   "file_extension": ".py",
   "mimetype": "text/x-python",
   "name": "python",
   "nbconvert_exporter": "python",
   "pygments_lexer": "ipython3",
   "version": "3.13.5"
  }
 },
 "nbformat": 4,
 "nbformat_minor": 5
}
