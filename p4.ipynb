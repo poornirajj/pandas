{
 "cells": [
  {
   "cell_type": "code",
   "execution_count": null,
   "id": "b667398c",
   "metadata": {},
   "outputs": [],
   "source": [
    "import pandas as pd\n",
    "import numpy as np\n",
    "import seaborn as sns\n",
    "import matplotlib.pyplot as plt\n"
   ]
  },
  {
   "cell_type": "code",
   "execution_count": null,
   "id": "b20f8ba7",
   "metadata": {},
   "outputs": [],
   "source": [
    "# Simulated healthcare dataset\n",
    "data = {\n",
    "    'Age': [45, 50, 36, 62, 40, 58, 49, 55],\n",
    "    'Blood_Pressure': [130, 140, 120, 150, 135, 145, 138, 142],\n",
    "    'Cholesterol': [220, 240, 180, 260, 200, 230, 210, 250],\n",
    "    'BMI': [28.5, 30.1, 25.3, 32.0, 27.8, 29.9, 28.7, 31.5],\n",
    "    'Glucose': [100, 110, 95, 130, 105, 115, 108, 120],\n",
    "    'Heart_Rate': [75, 80, 70, 85, 78, 82, 77, 84]\n",
    "}\n",
    "df = pd.DataFrame(data)\n"
   ]
  },
  {
   "cell_type": "code",
   "execution_count": null,
   "id": "900b77ac",
   "metadata": {},
   "outputs": [],
   "source": [
    "print(\"Missing Values:\\n\", df.isnull().sum())\n"
   ]
  },
  {
   "cell_type": "code",
   "execution_count": null,
   "id": "086ad89f",
   "metadata": {},
   "outputs": [],
   "source": [
    "# Simulate missing values\n",
    "df.loc[3, 'Cholesterol'] = np.nan\n",
    "\n",
    "# Fill with mean\n",
    "df['Cholesterol'].fillna(df['Cholesterol'].mean(), inplace=True)\n"
   ]
  },
  {
   "cell_type": "code",
   "execution_count": null,
   "id": "28079237",
   "metadata": {},
   "outputs": [],
   "source": [
    "correlation_matrix = df.corr()\n"
   ]
  },
  {
   "cell_type": "code",
   "execution_count": null,
   "id": "4f043053",
   "metadata": {},
   "outputs": [],
   "source": [
    "print(\"\\nCorrelation Matrix:\\n\", correlation_matrix)\n"
   ]
  },
  {
   "cell_type": "code",
   "execution_count": null,
   "id": "8f1b8bc5",
   "metadata": {},
   "outputs": [],
   "source": [
    "plt.figure(figsize=(10, 6))\n",
    "sns.heatmap(correlation_matrix, annot=True)\n",
    "plt.title('Health Metrics Correlation Heatmap')\n",
    "plt.show()\n"
   ]
  },
  {
   "cell_type": "code",
   "execution_count": null,
   "id": "f5c97b51",
   "metadata": {},
   "outputs": [],
   "source": [
    "plt.figure(figsize=(10, 6))\n",
    "sns.heatmap(correlation_matrix, annot=True, cmap='YlGnBu')\n",
    "plt.title('Correlation Heatmap with YlGnBu Palette')\n",
    "plt.show()\n"
   ]
  },
  {
   "cell_type": "code",
   "execution_count": null,
   "id": "4b58cef7",
   "metadata": {},
   "outputs": [],
   "source": [
    "plt.figure(figsize=(10, 6))\n",
    "sns.heatmap(\n",
    "    correlation_matrix,\n",
    "    annot=True,\n",
    "    cmap='coolwarm',\n",
    "    linewidths=1,\n",
    "    linecolor='black'\n",
    ")\n",
    "plt.title('Styled Health Metrics Heatmap')\n",
    "plt.show()\n"
   ]
  },
  {
   "cell_type": "code",
   "execution_count": null,
   "id": "ce46b9e9",
   "metadata": {},
   "outputs": [],
   "source": [
    "mask = correlation_matrix.isnull()\n",
    "\n",
    "plt.figure(figsize=(10, 6))\n",
    "sns.heatmap(correlation_matrix, annot=True, cmap='coolwarm', mask=mask)\n",
    "plt.title('Correlation Heatmap (Masked Missing Values)')\n",
    "plt.show()\n"
   ]
  },
  {
   "cell_type": "code",
   "execution_count": null,
   "id": "fa1d7ef5",
   "metadata": {},
   "outputs": [],
   "source": [
    "from matplotlib.colors import LinearSegmentedColormap\n",
    "\n",
    "# Custom diverging color map: Red - White - Green\n",
    "custom_cmap = LinearSegmentedColormap.from_list(\"custom\", [\"#d73027\", \"#ffffbf\", \"#1a9850\"])\n",
    "\n",
    "plt.figure(figsize=(10, 6))\n",
    "sns.heatmap(correlation_matrix, annot=True, cmap=custom_cmap, linewidths=0.5)\n",
    "plt.title('Custom Color Map Heatmap: Health Data')\n",
    "plt.show()\n"
   ]
  }
 ],
 "metadata": {
  "language_info": {
   "name": "python"
  }
 },
 "nbformat": 4,
 "nbformat_minor": 5
}
