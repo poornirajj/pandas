{
 "cells": [
  {
   "cell_type": "code",
   "execution_count": null,
   "id": "938492ee",
   "metadata": {},
   "outputs": [],
   "source": [
    "import pandas as pd\n",
    "import seaborn as sns\n",
    "import matplotlib.pyplot as plt\n",
    "\n",
    "# Set seaborn theme\n",
    "sns.set_style(\"whitegrid\")\n"
   ]
  },
  {
   "cell_type": "code",
   "execution_count": null,
   "id": "c57d7cd3",
   "metadata": {},
   "outputs": [],
   "source": [
    "# Replace this with your actual path\n",
    "df = pd.read_csv(\"ecommerce_customer_data.csv\")\n",
    "\n",
    "# Preview\n",
    "print(df.head())\n"
   ]
  },
  {
   "cell_type": "code",
   "execution_count": null,
   "id": "aa9512a2",
   "metadata": {},
   "outputs": [],
   "source": [
    "# Check for missing values\n",
    "print(df.isnull().sum())\n",
    "\n",
    "# Drop rows with any missing values\n",
    "df.dropna(inplace=True)\n",
    "\n",
    "# Optional: Remove age outliers (e.g., customers under 15 or over 100)\n",
    "df = df[(df['Age'] >= 15) & (df['Age'] <= 100)]\n"
   ]
  },
  {
   "cell_type": "code",
   "execution_count": null,
   "id": "15f7e657",
   "metadata": {},
   "outputs": [],
   "source": [
    "sns.histplot(df['Age'], bins=20, kde=False)\n",
    "plt.title(\"Customer Age Distribution\")\n",
    "plt.xlabel(\"Age\")\n",
    "plt.ylabel(\"Number of Customers\")\n",
    "plt.show()\n"
   ]
  },
  {
   "cell_type": "code",
   "execution_count": null,
   "id": "56cc6843",
   "metadata": {},
   "outputs": [],
   "source": [
    "sns.histplot(df['Age'], bins=20, kde=True)\n",
    "plt.title(\"Customer Age Distribution with KDE\")\n",
    "plt.xlabel(\"Age\")\n",
    "plt.ylabel(\"Frequency\")\n",
    "plt.show()\n"
   ]
  },
  {
   "cell_type": "code",
   "execution_count": null,
   "id": "8acef3b2",
   "metadata": {},
   "outputs": [],
   "source": [
    "sns.histplot(df['Age'], bins=40, kde=True)\n",
    "plt.title(\"Age Distribution with More Bins\")\n",
    "plt.xlabel(\"Age\")\n",
    "plt.ylabel(\"Frequency\")\n",
    "plt.show()\n"
   ]
  },
  {
   "cell_type": "code",
   "execution_count": null,
   "id": "59f1180b",
   "metadata": {},
   "outputs": [],
   "source": [
    "sns.histplot(data=df, x='Age', hue='Gender', bins=30, kde=True)\n",
    "plt.title(\"Customer Age Distribution by Gender\")\n",
    "plt.xlabel(\"Age\")\n",
    "plt.ylabel(\"Frequency\")\n",
    "plt.show()\n"
   ]
  },
  {
   "cell_type": "code",
   "execution_count": null,
   "id": "f75d4657",
   "metadata": {},
   "outputs": [],
   "source": [
    "sns.kdeplot(data=df[df['Gender'] == 'Male'], x='Age', label='Male', color='blue')\n",
    "sns.kdeplot(data=df[df['Gender'] == 'Female'], x='Age', label='Female', color='red')\n",
    "\n",
    "plt.title(\"Age Distribution KDE: Male vs Female\")\n",
    "plt.xlabel(\"Age\")\n",
    "plt.ylabel(\"Density\")\n",
    "plt.legend()\n",
    "plt.show()\n"
   ]
  },
  {
   "cell_type": "code",
   "execution_count": null,
   "id": "d08801aa",
   "metadata": {},
   "outputs": [],
   "source": [
    "sns.histplot(data=df, x='Age', hue='Gender', kde=True, bins=30)\n",
    "plt.title(\"Customer Age Distribution by Gender\")\n",
    "plt.xlabel(\"Customer Age\")\n",
    "plt.ylabel(\"Number of Customers\")\n",
    "plt.show()\n"
   ]
  },
  {
   "cell_type": "code",
   "execution_count": null,
   "id": "14e16062",
   "metadata": {},
   "outputs": [],
   "source": [
    "sns.histplot(data=df, x='Age', hue='Gender', kde=True, bins=30, palette='Set2')\n",
    "plt.title(\"Age Distribution by Gender (Custom Colors)\")\n",
    "plt.xlabel(\"Age\")\n",
    "plt.ylabel(\"Frequency\")\n",
    "plt.show()\n"
   ]
  },
  {
   "cell_type": "code",
   "execution_count": null,
   "id": "10e08f77",
   "metadata": {},
   "outputs": [],
   "source": [
    "plt.figure(figsize=(8, 5))\n",
    "sns.histplot(data=df, x='Age', hue='Gender', kde=True, bins=30, palette='Set2')\n",
    "plt.title(\"Final Age Distribution by Gender\")\n",
    "plt.xlabel(\"Customer Age\")\n",
    "plt.ylabel(\"Frequency\")\n",
    "plt.tight_layout()\n",
    "plt.savefig(\"age_distribution_by_gender.png\", dpi=300)\n",
    "plt.close()\n"
   ]
  },
  {
   "cell_type": "code",
   "execution_count": null,
   "id": "f760e419",
   "metadata": {},
   "outputs": [],
   "source": [
    "sns.histplot(data=df, x='Age', hue='Gender', kde=True, bins=30, palette='Set2')\n",
    "plt.title(\"Final Age Distribution by Gender\")\n",
    "plt.xlabel(\"Customer Age\")\n",
    "plt.ylabel(\"Frequency\")\n",
    "plt.show()\n"
   ]
  }
 ],
 "metadata": {
  "language_info": {
   "name": "python"
  }
 },
 "nbformat": 4,
 "nbformat_minor": 5
}
