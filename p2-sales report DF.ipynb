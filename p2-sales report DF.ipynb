{
 "cells": [
  {
   "cell_type": "markdown",
   "id": "6c1f0a3d",
   "metadata": {},
   "source": [
    "# Step 1: Install and Import Pandas"
   ]
  },
  {
   "cell_type": "code",
   "execution_count": 3,
   "id": "dc73d5c7",
   "metadata": {},
   "outputs": [],
   "source": [
    "import pandas as pd"
   ]
  },
  {
   "cell_type": "markdown",
   "id": "307c1b4e",
   "metadata": {},
   "source": [
    "# Step 2: Create a Sales DataFrame\n",
    "# Using a List of Dictionaries"
   ]
  },
  {
   "cell_type": "code",
   "execution_count": 4,
   "id": "a0f7a30e",
   "metadata": {},
   "outputs": [
    {
     "name": "stdout",
     "output_type": "stream",
     "text": [
      "      Product     Category  Units Sold  Price per Unit\n",
      "0      Laptop  Electronics          10           50000\n",
      "1      Mobile  Electronics          25           20000\n",
      "2      Tablet  Electronics          15           30000\n",
      "3  Headphones  Accessories          50            2000\n",
      "4       Mouse  Accessories          40            1500\n"
     ]
    }
   ],
   "source": [
    "sales_data = [\n",
    " {'Product': 'Laptop', 'Category': 'Electronics', 'Units Sold': 10, 'Price per Unit': \n",
    "50000},\n",
    " {'Product': 'Mobile', 'Category': 'Electronics', 'Units Sold': 25, 'Price per Unit': \n",
    "20000},\n",
    "{'Product': 'Tablet', 'Category': 'Electronics', 'Units Sold': 15, 'Price per Unit': \n",
    "30000},\n",
    " {'Product': 'Headphones', 'Category': 'Accessories', 'Units Sold': 50, 'Price per Unit': 2000},\n",
    " {'Product': 'Mouse', 'Category': 'Accessories', 'Units Sold': 40, 'Price per Unit': \n",
    "1500}\n",
    "]\n",
    "\n",
    "df_sales = pd.DataFrame(sales_data)\n",
    "\n",
    "print(df_sales)"
   ]
  },
  {
   "cell_type": "markdown",
   "id": "722d5e13",
   "metadata": {},
   "source": [
    "# Step 3: Add a New Column (Total Sales)"
   ]
  },
  {
   "cell_type": "code",
   "execution_count": 5,
   "id": "ccac6705",
   "metadata": {},
   "outputs": [
    {
     "name": "stdout",
     "output_type": "stream",
     "text": [
      "      Product     Category  Units Sold  Price per Unit  Total Sales\n",
      "0      Laptop  Electronics          10           50000       500000\n",
      "1      Mobile  Electronics          25           20000       500000\n",
      "2      Tablet  Electronics          15           30000       450000\n",
      "3  Headphones  Accessories          50            2000       100000\n",
      "4       Mouse  Accessories          40            1500        60000\n"
     ]
    }
   ],
   "source": [
    "df_sales['Total Sales'] = df_sales['Units Sold'] * df_sales['Price per Unit']\n",
    "print(df_sales)"
   ]
  },
  {
   "cell_type": "markdown",
   "id": "6e338e90",
   "metadata": {},
   "source": [
    "# Step 4: Check Data Properties"
   ]
  },
  {
   "cell_type": "code",
   "execution_count": 6,
   "id": "bc642b74",
   "metadata": {},
   "outputs": [
    {
     "name": "stdout",
     "output_type": "stream",
     "text": [
      "      Product     Category  Units Sold  Price per Unit  Total Sales\n",
      "0      Laptop  Electronics          10           50000       500000\n",
      "1      Mobile  Electronics          25           20000       500000\n",
      "2      Tablet  Electronics          15           30000       450000\n",
      "3  Headphones  Accessories          50            2000       100000\n",
      "4       Mouse  Accessories          40            1500        60000\n",
      "<class 'pandas.core.frame.DataFrame'>\n",
      "RangeIndex: 5 entries, 0 to 4\n",
      "Data columns (total 5 columns):\n",
      " #   Column          Non-Null Count  Dtype \n",
      "---  ------          --------------  ----- \n",
      " 0   Product         5 non-null      object\n",
      " 1   Category        5 non-null      object\n",
      " 2   Units Sold      5 non-null      int64 \n",
      " 3   Price per Unit  5 non-null      int64 \n",
      " 4   Total Sales     5 non-null      int64 \n",
      "dtypes: int64(3), object(2)\n",
      "memory usage: 332.0+ bytes\n",
      "None\n",
      "       Units Sold  Price per Unit    Total Sales\n",
      "count    5.000000        5.000000       5.000000\n",
      "mean    28.000000    20700.000000  322000.000000\n",
      "std     16.807736    20394.852292  222306.095283\n",
      "min     10.000000     1500.000000   60000.000000\n",
      "25%     15.000000     2000.000000  100000.000000\n",
      "50%     25.000000    20000.000000  450000.000000\n",
      "75%     40.000000    30000.000000  500000.000000\n",
      "max     50.000000    50000.000000  500000.000000\n"
     ]
    }
   ],
   "source": [
    "#Get First Few Rows\n",
    "print(df_sales.head())\n",
    "#Get Data Info\n",
    "print(df_sales.info())\n",
    "#Get Summary Statistics\n",
    "print(df_sales.describe())"
   ]
  },
  {
   "cell_type": "markdown",
   "id": "c575dc50",
   "metadata": {},
   "source": [
    "# Step 5: Save Sales Data to CSV"
   ]
  },
  {
   "cell_type": "code",
   "execution_count": 7,
   "id": "bd0337a9",
   "metadata": {},
   "outputs": [
    {
     "name": "stdout",
     "output_type": "stream",
     "text": [
      "Sales data saved to CSV file successfully!\n"
     ]
    }
   ],
   "source": [
    "df_sales.to_csv(\"sales_data.csv\", index=False)\n",
    "print(\"Sales data saved to CSV file successfully!\")"
   ]
  },
  {
   "cell_type": "markdown",
   "id": "0afcb946",
   "metadata": {},
   "source": [
    "# Step 6: Read Data from CSV"
   ]
  },
  {
   "cell_type": "code",
   "execution_count": 8,
   "id": "5b4f30df",
   "metadata": {},
   "outputs": [
    {
     "name": "stdout",
     "output_type": "stream",
     "text": [
      "      Product     Category  Units Sold  Price per Unit  Total Sales\n",
      "0      Laptop  Electronics          10           50000       500000\n",
      "1      Mobile  Electronics          25           20000       500000\n",
      "2      Tablet  Electronics          15           30000       450000\n",
      "3  Headphones  Accessories          50            2000       100000\n",
      "4       Mouse  Accessories          40            1500        60000\n"
     ]
    }
   ],
   "source": [
    "df_read = pd.read_csv(\"sales_data.csv\")\n",
    "print(df_read.head()) # Display first few rows"
   ]
  }
 ],
 "metadata": {
  "kernelspec": {
   "display_name": "Python 3",
   "language": "python",
   "name": "python3"
  },
  "language_info": {
   "codemirror_mode": {
    "name": "ipython",
    "version": 3
   },
   "file_extension": ".py",
   "mimetype": "text/x-python",
   "name": "python",
   "nbconvert_exporter": "python",
   "pygments_lexer": "ipython3",
   "version": "3.13.5"
  }
 },
 "nbformat": 4,
 "nbformat_minor": 5
}
