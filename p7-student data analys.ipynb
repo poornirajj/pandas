{
 "cells": [
  {
   "cell_type": "code",
   "execution_count": 1,
   "id": "8854868e",
   "metadata": {},
   "outputs": [],
   "source": [
    "import pandas as pd"
   ]
  },
  {
   "cell_type": "code",
   "execution_count": 2,
   "id": "1ee0d142",
   "metadata": {},
   "outputs": [
    {
     "name": "stdout",
     "output_type": "stream",
     "text": [
      "   Student   Course  Age  Grade         City\n",
      "0    Alice       CS   20     85     New York\n",
      "1      Bob  Physics   22     78  Los Angeles\n",
      "2  Charlie       CS   21     92      Chicago\n",
      "3    David     Math   23     88     New York\n",
      "4      Eva  Physics   20     76      Chicago\n"
     ]
    }
   ],
   "source": [
    "data = {\n",
    " \"Student\": [\"Alice\", \"Bob\", \"Charlie\", \"David\", \"Eva\"],\n",
    " \"Course\": [\"CS\", \"Physics\", \"CS\", \"Math\", \"Physics\"],\n",
    " \"Age\": [20, 22, 21, 23, 20],\n",
    " \"Grade\": [85, 78, 92, 88, 76],\n",
    " \"City\": [\"New York\", \"Los Angeles\", \"Chicago\", \"New York\", \"Chicago\"]\n",
    "}\n",
    "df = pd.DataFrame(data)\n",
    "print(df)"
   ]
  },
  {
   "cell_type": "code",
   "execution_count": 3,
   "id": "9ff9476a",
   "metadata": {},
   "outputs": [
    {
     "name": "stdout",
     "output_type": "stream",
     "text": [
      "   Student  Grade\n",
      "0    Alice     85\n",
      "1      Bob     78\n",
      "2  Charlie     92\n",
      "3    David     88\n",
      "4      Eva     76\n"
     ]
    }
   ],
   "source": [
    "df_selected = df[[\"Student\", \"Grade\"]]\n",
    "print(df_selected)"
   ]
  },
  {
   "cell_type": "code",
   "execution_count": 4,
   "id": "df100560",
   "metadata": {},
   "outputs": [
    {
     "name": "stdout",
     "output_type": "stream",
     "text": [
      "   Student Course  Age  Grade      City\n",
      "0    Alice     CS   20     85  New York\n",
      "2  Charlie     CS   21     92   Chicago\n",
      "3    David   Math   23     88  New York\n"
     ]
    }
   ],
   "source": [
    "high_grade_students = df[df[\"Grade\"] > 80]\n",
    "print(high_grade_students)"
   ]
  },
  {
   "cell_type": "code",
   "execution_count": 5,
   "id": "f6ad30e4",
   "metadata": {},
   "outputs": [
    {
     "name": "stdout",
     "output_type": "stream",
     "text": [
      "   Student Course  Age  Grade      City\n",
      "0    Alice     CS   20     85  New York\n",
      "2  Charlie     CS   21     92   Chicago\n"
     ]
    }
   ],
   "source": [
    "cs_students = df[df[\"Course\"].isin([\"CS\"])]\n",
    "print(cs_students)"
   ]
  },
  {
   "cell_type": "code",
   "execution_count": 6,
   "id": "388f74b6",
   "metadata": {},
   "outputs": [
    {
     "name": "stdout",
     "output_type": "stream",
     "text": [
      "   Student   Course  Age  Grade         City\n",
      "0    Alice       CS   20     85     New York\n",
      "1      Bob  Physics   22     78  Los Angeles\n",
      "2  Charlie       CS   21     92      Chicago\n",
      "4      Eva  Physics   20     76      Chicago\n"
     ]
    }
   ],
   "source": [
    "age_filtered_students = df[df[\"Age\"].between(20, 22)]\n",
    "print(age_filtered_students)"
   ]
  },
  {
   "cell_type": "code",
   "execution_count": 7,
   "id": "779b6b0f",
   "metadata": {},
   "outputs": [
    {
     "name": "stdout",
     "output_type": "stream",
     "text": [
      "          Course  Age  Grade         City\n",
      "Student                                  \n",
      "Alice         CS   20     85     New York\n",
      "Bob      Physics   22     78  Los Angeles\n",
      "Charlie       CS   21     92      Chicago\n",
      "David       Math   23     88     New York\n",
      "Eva      Physics   20     76      Chicago\n"
     ]
    }
   ],
   "source": [
    "df_indexed = df.set_index(\"Student\")\n",
    "print(df_indexed)"
   ]
  },
  {
   "cell_type": "code",
   "execution_count": 8,
   "id": "6fe32881",
   "metadata": {},
   "outputs": [
    {
     "name": "stdout",
     "output_type": "stream",
     "text": [
      "   Student   Course  Age  Grade         City\n",
      "0    Alice       CS   20     85     New York\n",
      "1      Bob  Physics   22     78  Los Angeles\n",
      "2  Charlie       CS   21     92      Chicago\n",
      "3    David     Math   23     88     New York\n",
      "4      Eva  Physics   20     76      Chicago\n"
     ]
    }
   ],
   "source": [
    "df_reset = df_indexed.reset_index()\n",
    "print(df_reset)"
   ]
  }
 ],
 "metadata": {
  "kernelspec": {
   "display_name": "Python 3",
   "language": "python",
   "name": "python3"
  },
  "language_info": {
   "codemirror_mode": {
    "name": "ipython",
    "version": 3
   },
   "file_extension": ".py",
   "mimetype": "text/x-python",
   "name": "python",
   "nbconvert_exporter": "python",
   "pygments_lexer": "ipython3",
   "version": "3.13.5"
  }
 },
 "nbformat": 4,
 "nbformat_minor": 5
}
