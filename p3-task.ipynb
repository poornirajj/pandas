{
 "cells": [
  {
   "cell_type": "code",
   "execution_count": 37,
   "id": "69675bc7",
   "metadata": {},
   "outputs": [],
   "source": [
    "import pandas as pd\n"
   ]
  },
  {
   "cell_type": "markdown",
   "id": "0a7174ea",
   "metadata": {},
   "source": [
    "# 2. Create a Pandas DataFrame (from lists/dictionaries)"
   ]
  },
  {
   "cell_type": "code",
   "execution_count": 38,
   "id": "a334fd71",
   "metadata": {},
   "outputs": [
    {
     "name": "stdout",
     "output_type": "stream",
     "text": [
      "Initial DataFrame:\n",
      "  Customer Name     Product  Amount\n",
      "0         Alice      Laptop    1200\n",
      "1           Bob      Tablet     800\n",
      "2       Charlie  Smartphone     600\n",
      "3         Diana      Laptop    1300\n",
      "4         Ethan  Headphones     150\n"
     ]
    }
   ],
   "source": [
    "data = {\n",
    "    'Customer Name': ['Alice', 'Bob', 'Charlie', 'Diana', 'Ethan'],\n",
    "    'Product': ['Laptop', 'Tablet', 'Smartphone', 'Laptop', 'Headphones'],\n",
    "    'Amount': [1200, 800, 600, 1300, 150]\n",
    "}\n",
    "\n",
    "df = pd.DataFrame(data)\n",
    "print(\"Initial DataFrame:\")\n",
    "print(df)\n"
   ]
  },
  {
   "cell_type": "markdown",
   "id": "87fb1ba6",
   "metadata": {},
   "source": [
    "# 3. Load Data from an External CSV File"
   ]
  },
  {
   "cell_type": "code",
   "execution_count": 39,
   "id": "f11fab0d",
   "metadata": {},
   "outputs": [],
   "source": [
    "df = pd.read_csv('customer_purchases.csv')\n"
   ]
  },
  {
   "cell_type": "markdown",
   "id": "3f9a1ae9",
   "metadata": {},
   "source": [
    "# . Check the First and Last Few Rows of the DataFrame"
   ]
  },
  {
   "cell_type": "code",
   "execution_count": 40,
   "id": "907209bc",
   "metadata": {},
   "outputs": [
    {
     "name": "stdout",
     "output_type": "stream",
     "text": [
      "First 5 rows:\n",
      "     Abi   apple  1000\n",
      "0  Reshi  Grapes  2000\n",
      "\n",
      "Last 5 rows:\n",
      "     Abi   apple  1000\n",
      "0  Reshi  Grapes  2000\n"
     ]
    }
   ],
   "source": [
    "print(\"First 5 rows:\")\n",
    "print(df.head())\n",
    "\n",
    "print(\"\\nLast 5 rows:\")\n",
    "print(df.tail())\n"
   ]
  },
  {
   "cell_type": "markdown",
   "id": "adfac619",
   "metadata": {},
   "source": [
    "# 5. Retrieve DataFrame Properties"
   ]
  },
  {
   "cell_type": "code",
   "execution_count": 41,
   "id": "e76ca605",
   "metadata": {},
   "outputs": [
    {
     "name": "stdout",
     "output_type": "stream",
     "text": [
      "Shape of the DataFrame (rows, columns): (1, 3)\n",
      "\n",
      "Info about DataFrame:\n",
      "<class 'pandas.core.frame.DataFrame'>\n",
      "RangeIndex: 1 entries, 0 to 0\n",
      "Data columns (total 3 columns):\n",
      " #   Column  Non-Null Count  Dtype \n",
      "---  ------  --------------  ----- \n",
      " 0   Abi     1 non-null      object\n",
      " 1   apple   1 non-null      object\n",
      " 2   1000    1 non-null      int64 \n",
      "dtypes: int64(1), object(2)\n",
      "memory usage: 156.0+ bytes\n"
     ]
    }
   ],
   "source": [
    "print(\"Shape of the DataFrame (rows, columns):\", df.shape)\n",
    "\n",
    "print(\"\\nInfo about DataFrame:\")\n",
    "df.info()\n"
   ]
  },
  {
   "cell_type": "markdown",
   "id": "04ae0e0d",
   "metadata": {},
   "source": [
    "# . Get Summary Statistics"
   ]
  },
  {
   "cell_type": "code",
   "execution_count": 42,
   "id": "e11f2d82",
   "metadata": {},
   "outputs": [
    {
     "name": "stdout",
     "output_type": "stream",
     "text": [
      "Summary Statistics:\n",
      "         1000\n",
      "count     1.0\n",
      "mean   2000.0\n",
      "std       NaN\n",
      "min    2000.0\n",
      "25%    2000.0\n",
      "50%    2000.0\n",
      "75%    2000.0\n",
      "max    2000.0\n"
     ]
    }
   ],
   "source": [
    "print(\"Summary Statistics:\")\n",
    "print(df.describe())\n"
   ]
  },
  {
   "cell_type": "markdown",
   "id": "3420a9e8",
   "metadata": {},
   "source": [
    "# 7. Access and Modify Specific Columns"
   ]
  },
  {
   "cell_type": "code",
   "execution_count": 43,
   "id": "adfdc278",
   "metadata": {},
   "outputs": [
    {
     "name": "stdout",
     "output_type": "stream",
     "text": [
      "     Abi   apple  1000\n",
      "0  Reshi  Grapes  2000\n",
      "Index(['Abi', 'apple', '1000'], dtype='object')\n"
     ]
    }
   ],
   "source": [
    "print(df.head())     # View first 5 rows\n",
    "print(df.columns)  \n"
   ]
  },
  {
   "cell_type": "markdown",
   "id": "9d91f9be",
   "metadata": {},
   "source": [
    "# 8. Filter Customer Data Based on Conditions"
   ]
  },
  {
   "cell_type": "code",
   "execution_count": 44,
   "id": "4e022de7",
   "metadata": {},
   "outputs": [
    {
     "name": "stdout",
     "output_type": "stream",
     "text": [
      "['Abi', 'apple', '1000']\n"
     ]
    }
   ],
   "source": [
    "print(df.columns.tolist())\n",
    "\n"
   ]
  },
  {
   "cell_type": "markdown",
   "id": "cf04c78b",
   "metadata": {},
   "source": [
    "# 9. Sort the Dataset"
   ]
  },
  {
   "cell_type": "code",
   "execution_count": 45,
   "id": "1420bded",
   "metadata": {},
   "outputs": [
    {
     "ename": "KeyError",
     "evalue": "'Amount'",
     "output_type": "error",
     "traceback": [
      "\u001b[31m---------------------------------------------------------------------------\u001b[39m",
      "\u001b[31mKeyError\u001b[39m                                  Traceback (most recent call last)",
      "\u001b[32m~\\AppData\\Local\\Temp\\ipykernel_23352\\1170050022.py\u001b[39m in \u001b[36m?\u001b[39m\u001b[34m()\u001b[39m\n\u001b[32m----> \u001b[39m\u001b[32m1\u001b[39m sorted_df = df.sort_values(by=\u001b[33m'Amount'\u001b[39m, ascending=\u001b[38;5;28;01mFalse\u001b[39;00m)\n\u001b[32m      2\u001b[39m print(\u001b[33m\"Sorted by Amount (desc):\"\u001b[39m)\n\u001b[32m      3\u001b[39m print(sorted_df)\n",
      "\u001b[32mc:\\Users\\Ayyappan\\AppData\\Local\\Programs\\Python\\Python313\\Lib\\site-packages\\pandas\\core\\frame.py\u001b[39m in \u001b[36m?\u001b[39m\u001b[34m(self, by, axis, ascending, inplace, kind, na_position, ignore_index, key)\u001b[39m\n\u001b[32m   7192\u001b[39m             )\n\u001b[32m   7193\u001b[39m         \u001b[38;5;28;01melif\u001b[39;00m len(by):\n\u001b[32m   7194\u001b[39m             \u001b[38;5;66;03m# len(by) == 1\u001b[39;00m\n\u001b[32m   7195\u001b[39m \n\u001b[32m-> \u001b[39m\u001b[32m7196\u001b[39m             k = self._get_label_or_level_values(by[\u001b[32m0\u001b[39m], axis=axis)\n\u001b[32m   7197\u001b[39m \n\u001b[32m   7198\u001b[39m             \u001b[38;5;66;03m# need to rewrap column in Series to apply key function\u001b[39;00m\n\u001b[32m   7199\u001b[39m             \u001b[38;5;28;01mif\u001b[39;00m key \u001b[38;5;28;01mis\u001b[39;00m \u001b[38;5;28;01mnot\u001b[39;00m \u001b[38;5;28;01mNone\u001b[39;00m:\n",
      "\u001b[32mc:\\Users\\Ayyappan\\AppData\\Local\\Programs\\Python\\Python313\\Lib\\site-packages\\pandas\\core\\generic.py\u001b[39m in \u001b[36m?\u001b[39m\u001b[34m(self, key, axis)\u001b[39m\n\u001b[32m   1907\u001b[39m             values = self.xs(key, axis=other_axes[\u001b[32m0\u001b[39m])._values\n\u001b[32m   1908\u001b[39m         \u001b[38;5;28;01melif\u001b[39;00m self._is_level_reference(key, axis=axis):\n\u001b[32m   1909\u001b[39m             values = self.axes[axis].get_level_values(key)._values\n\u001b[32m   1910\u001b[39m         \u001b[38;5;28;01melse\u001b[39;00m:\n\u001b[32m-> \u001b[39m\u001b[32m1911\u001b[39m             \u001b[38;5;28;01mraise\u001b[39;00m KeyError(key)\n\u001b[32m   1912\u001b[39m \n\u001b[32m   1913\u001b[39m         \u001b[38;5;66;03m# Check for duplicates\u001b[39;00m\n\u001b[32m   1914\u001b[39m         \u001b[38;5;28;01mif\u001b[39;00m values.ndim > \u001b[32m1\u001b[39m:\n",
      "\u001b[31mKeyError\u001b[39m: 'Amount'"
     ]
    }
   ],
   "source": [
    "sorted_df = df.sort_values(by='Amount', ascending=False)\n",
    "print(\"Sorted by Amount (desc):\")\n",
    "print(sorted_df)\n"
   ]
  },
  {
   "cell_type": "markdown",
   "id": "c8f73c8f",
   "metadata": {},
   "source": [
    "# 10. Handle Missing Values\n",
    "\n",
    "# Detect missing values:"
   ]
  },
  {
   "cell_type": "code",
   "execution_count": null,
   "id": "6ff14e1c",
   "metadata": {},
   "outputs": [],
   "source": [
    "print(\"Missing values per column:\")\n",
    "print(df.isnull().sum())\n"
   ]
  },
  {
   "cell_type": "markdown",
   "id": "fdde2b19",
   "metadata": {},
   "source": [
    "# 11. Group and Aggregate Data\n",
    "\n",
    "# Total amount spent by each custome"
   ]
  },
  {
   "cell_type": "code",
   "execution_count": null,
   "id": "0d63747c",
   "metadata": {},
   "outputs": [],
   "source": [
    "total_by_customer = df.groupby('Customer Name')['Amount'].sum()\n",
    "print(\"Total spent per customer:\")\n",
    "print(total_by_customer)\n"
   ]
  },
  {
   "cell_type": "markdown",
   "id": "e3db485e",
   "metadata": {},
   "source": [
    "# 12. Add a New Calculated Column\n",
    "\n",
    "# Add a 10% discount column for purchases above $1000:"
   ]
  },
  {
   "cell_type": "code",
   "execution_count": null,
   "id": "46ae2f0d",
   "metadata": {},
   "outputs": [],
   "source": [
    "df['Discount'] = df['Amount'].apply(lambda x: x * 0.10 if x > 1000 else 0)\n"
   ]
  },
  {
   "cell_type": "markdown",
   "id": "918c4e9c",
   "metadata": {},
   "source": [
    "# 13. Save Cleaned Data to a New CSV File"
   ]
  },
  {
   "cell_type": "code",
   "execution_count": null,
   "id": "9a276856",
   "metadata": {},
   "outputs": [],
   "source": [
    "df.to_csv('cleaned_customer_purchases.csv', index=False)\n"
   ]
  }
 ],
 "metadata": {
  "kernelspec": {
   "display_name": "Python 3",
   "language": "python",
   "name": "python3"
  },
  "language_info": {
   "codemirror_mode": {
    "name": "ipython",
    "version": 3
   },
   "file_extension": ".py",
   "mimetype": "text/x-python",
   "name": "python",
   "nbconvert_exporter": "python",
   "pygments_lexer": "ipython3",
   "version": "3.13.5"
  }
 },
 "nbformat": 4,
 "nbformat_minor": 5
}
