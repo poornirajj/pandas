{
 "cells": [
  {
   "cell_type": "code",
   "execution_count": 3,
   "id": "33d9d1c6",
   "metadata": {},
   "outputs": [],
   "source": [
    "import pandas as pd"
   ]
  },
  {
   "cell_type": "code",
   "execution_count": 4,
   "id": "89d0b483",
   "metadata": {},
   "outputs": [
    {
     "name": "stdout",
     "output_type": "stream",
     "text": [
      "      Product     Category  Price  Quantity Sold         City\n",
      "0      Laptop  Electronics   1200             50     New York\n",
      "1  Smartphone  Electronics    800            100  Los Angeles\n",
      "2       Table    Furniture    300             20      Chicago\n",
      "3  Headphones  Electronics    150             70     New York\n",
      "4       Chair    Furniture    200             30      Chicago\n",
      "5     Monitor  Electronics    400             40  Los Angeles\n"
     ]
    }
   ],
   "source": [
    "data = {\n",
    " \"Product\": [\"Laptop\", \"Smartphone\", \"Table\", \"Headphones\", \"Chair\", \n",
    "\"Monitor\"],\n",
    " \"Category\": [\"Electronics\", \"Electronics\", \"Furniture\", \"Electronics\", \"Furniture\", \n",
    "\"Electronics\"],\n",
    " \"Price\": [1200, 800, 300, 150, 200, 400],\n",
    " \"Quantity Sold\": [50, 100, 20, 70, 30, 40],\n",
    " \"City\": [\"New York\", \"Los Angeles\", \"Chicago\", \"New York\", \"Chicago\", \"Los Angeles\"]\n",
    "}\n",
    "df = pd.DataFrame(data)\n",
    "print(df)"
   ]
  },
  {
   "cell_type": "code",
   "execution_count": 5,
   "id": "cce5f59d",
   "metadata": {},
   "outputs": [
    {
     "name": "stdout",
     "output_type": "stream",
     "text": [
      "      Product  Price\n",
      "0      Laptop   1200\n",
      "1  Smartphone    800\n",
      "2       Table    300\n",
      "3  Headphones    150\n",
      "4       Chair    200\n",
      "5     Monitor    400\n"
     ]
    }
   ],
   "source": [
    "df_selected = df[[\"Product\", \"Price\"]]\n",
    "print(df_selected)"
   ]
  },
  {
   "cell_type": "code",
   "execution_count": 6,
   "id": "22d4c732",
   "metadata": {},
   "outputs": [
    {
     "name": "stdout",
     "output_type": "stream",
     "text": [
      "      Product     Category  Price  Quantity Sold         City\n",
      "0      Laptop  Electronics   1200             50     New York\n",
      "1  Smartphone  Electronics    800            100  Los Angeles\n",
      "2       Table    Furniture    300             20      Chicago\n"
     ]
    }
   ],
   "source": [
    "df_first_3 = df.iloc[:3]\n",
    "print(df_first_3)"
   ]
  },
  {
   "cell_type": "code",
   "execution_count": 7,
   "id": "b52a3aa5",
   "metadata": {},
   "outputs": [
    {
     "name": "stdout",
     "output_type": "stream",
     "text": [
      "      Product     Category  Price  Quantity Sold         City\n",
      "0      Laptop  Electronics   1200             50     New York\n",
      "1  Smartphone  Electronics    800            100  Los Angeles\n"
     ]
    }
   ],
   "source": [
    "expensive_products = df[df[\"Price\"] > 500]\n",
    "print(expensive_products)"
   ]
  },
  {
   "cell_type": "code",
   "execution_count": 8,
   "id": "1d1a3142",
   "metadata": {},
   "outputs": [
    {
     "name": "stdout",
     "output_type": "stream",
     "text": [
      "      Product     Category  Price  Quantity Sold      City\n",
      "0      Laptop  Electronics   1200             50  New York\n",
      "2       Table    Furniture    300             20   Chicago\n",
      "3  Headphones  Electronics    150             70  New York\n",
      "4       Chair    Furniture    200             30   Chicago\n"
     ]
    }
   ],
   "source": [
    "filtered_cities = df[df[\"City\"].isin([\"New York\", \"Chicago\"])]\n",
    "print(filtered_cities)"
   ]
  },
  {
   "cell_type": "code",
   "execution_count": 9,
   "id": "b21cb635",
   "metadata": {},
   "outputs": [
    {
     "name": "stdout",
     "output_type": "stream",
     "text": [
      "      Product     Category  Price  Quantity Sold         City\n",
      "1  Smartphone  Electronics    800            100  Los Angeles\n",
      "2       Table    Furniture    300             20      Chicago\n",
      "4       Chair    Furniture    200             30      Chicago\n",
      "5     Monitor  Electronics    400             40  Los Angeles\n"
     ]
    }
   ],
   "source": [
    "mid_price_products = df[df[\"Price\"].between(200, 800)]\n",
    "print(mid_price_products)"
   ]
  },
  {
   "cell_type": "code",
   "execution_count": 10,
   "id": "1a000237",
   "metadata": {},
   "outputs": [
    {
     "name": "stdout",
     "output_type": "stream",
     "text": [
      "               Category  Price  Quantity Sold         City\n",
      "Product                                                   \n",
      "Laptop      Electronics   1200             50     New York\n",
      "Smartphone  Electronics    800            100  Los Angeles\n",
      "Table         Furniture    300             20      Chicago\n",
      "Headphones  Electronics    150             70     New York\n",
      "Chair         Furniture    200             30      Chicago\n",
      "Monitor     Electronics    400             40  Los Angeles\n"
     ]
    }
   ],
   "source": [
    "df_indexed = df.set_index(\"Product\")\n",
    "print(df_indexed)"
   ]
  },
  {
   "cell_type": "code",
   "execution_count": 11,
   "id": "b0565f3b",
   "metadata": {},
   "outputs": [
    {
     "name": "stdout",
     "output_type": "stream",
     "text": [
      "      Product     Category  Price  Quantity Sold         City\n",
      "0      Laptop  Electronics   1200             50     New York\n",
      "1  Smartphone  Electronics    800            100  Los Angeles\n",
      "2       Table    Furniture    300             20      Chicago\n",
      "3  Headphones  Electronics    150             70     New York\n",
      "4       Chair    Furniture    200             30      Chicago\n",
      "5     Monitor  Electronics    400             40  Los Angeles\n"
     ]
    }
   ],
   "source": [
    "df_reset = df_indexed.reset_index()\n",
    "print(df_reset)"
   ]
  }
 ],
 "metadata": {
  "kernelspec": {
   "display_name": "Python 3",
   "language": "python",
   "name": "python3"
  },
  "language_info": {
   "codemirror_mode": {
    "name": "ipython",
    "version": 3
   },
   "file_extension": ".py",
   "mimetype": "text/x-python",
   "name": "python",
   "nbconvert_exporter": "python",
   "pygments_lexer": "ipython3",
   "version": "3.13.5"
  }
 },
 "nbformat": 4,
 "nbformat_minor": 5
}
