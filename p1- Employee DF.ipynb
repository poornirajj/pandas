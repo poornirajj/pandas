{
 "cells": [
  {
   "cell_type": "code",
   "execution_count": 10,
   "id": "af9225d2",
   "metadata": {},
   "outputs": [
    {
     "name": "stdout",
     "output_type": "stream",
     "text": [
      "Requirement already satisfied: pandas in c:\\users\\ayyappan\\appdata\\local\\programs\\python\\python313\\lib\\site-packages (2.3.2)\n",
      "Requirement already satisfied: numpy>=1.26.0 in c:\\users\\ayyappan\\appdata\\local\\programs\\python\\python313\\lib\\site-packages (from pandas) (2.3.2)\n",
      "Requirement already satisfied: python-dateutil>=2.8.2 in c:\\users\\ayyappan\\appdata\\roaming\\python\\python313\\site-packages (from pandas) (2.9.0.post0)\n",
      "Requirement already satisfied: pytz>=2020.1 in c:\\users\\ayyappan\\appdata\\local\\programs\\python\\python313\\lib\\site-packages (from pandas) (2025.2)\n",
      "Requirement already satisfied: tzdata>=2022.7 in c:\\users\\ayyappan\\appdata\\local\\programs\\python\\python313\\lib\\site-packages (from pandas) (2025.2)\n",
      "Requirement already satisfied: six>=1.5 in c:\\users\\ayyappan\\appdata\\roaming\\python\\python313\\site-packages (from python-dateutil>=2.8.2->pandas) (1.17.0)\n"
     ]
    },
    {
     "name": "stderr",
     "output_type": "stream",
     "text": [
      "\n",
      "[notice] A new release of pip is available: 25.1.1 -> 25.2\n",
      "[notice] To update, run: python.exe -m pip install --upgrade pip\n"
     ]
    }
   ],
   "source": [
    "!pip install pandas\n"
   ]
  },
  {
   "cell_type": "markdown",
   "id": "63949e19",
   "metadata": {},
   "source": [
    "# import pandas\n"
   ]
  },
  {
   "cell_type": "code",
   "execution_count": 11,
   "id": "fe5a9637",
   "metadata": {},
   "outputs": [],
   "source": [
    "import pandas as pd"
   ]
  },
  {
   "cell_type": "markdown",
   "id": "cf218209",
   "metadata": {},
   "source": [
    "# Create an Employee DataFrame\n",
    "# Employee Data"
   ]
  },
  {
   "cell_type": "code",
   "execution_count": 12,
   "id": "21a2d90a",
   "metadata": {},
   "outputs": [
    {
     "name": "stdout",
     "output_type": "stream",
     "text": [
      "   Employee_ID     Name Department  Salary  Experience (Years)\n",
      "0          101    Alice         HR   50000                   5\n",
      "1          102      Bob         IT   70000                   7\n",
      "2          103  Charlie    Finance   60000                   6\n",
      "3          104    David         IT   80000                   9\n",
      "4          105      Eve         HR   55000                   4\n"
     ]
    }
   ],
   "source": [
    "\n",
    "employee_data = {\n",
    " 'Employee_ID': [101, 102, 103, 104, 105],\n",
    " 'Name': ['Alice', 'Bob', 'Charlie', 'David', 'Eve'],\n",
    " 'Department': ['HR', 'IT', 'Finance', 'IT', 'HR'],\n",
    " 'Salary': [50000, 70000, 60000, 80000, 55000],\n",
    " 'Experience (Years)': [5, 7, 6, 9, 4]\n",
    "}\n",
    "# Creating DataFrame\n",
    "df = pd.DataFrame(employee_data)\n",
    "# Display DataFrame\n",
    "print(df)"
   ]
  },
  {
   "cell_type": "markdown",
   "id": "6b03d3ef",
   "metadata": {},
   "source": [
    "# Step 3: Check Data Properties"
   ]
  },
  {
   "cell_type": "code",
   "execution_count": 13,
   "id": "12a18a62",
   "metadata": {},
   "outputs": [
    {
     "name": "stdout",
     "output_type": "stream",
     "text": [
      "   Employee_ID     Name Department  Salary  Experience (Years)\n",
      "0          101    Alice         HR   50000                   5\n",
      "1          102      Bob         IT   70000                   7\n",
      "2          103  Charlie    Finance   60000                   6\n"
     ]
    }
   ],
   "source": [
    "print(df.head(3))"
   ]
  },
  {
   "cell_type": "markdown",
   "id": "c8ff468b",
   "metadata": {},
   "source": [
    "# Display Last Few Rows"
   ]
  },
  {
   "cell_type": "code",
   "execution_count": 14,
   "id": "7abf6f74",
   "metadata": {},
   "outputs": [
    {
     "name": "stdout",
     "output_type": "stream",
     "text": [
      "   Employee_ID   Name Department  Salary  Experience (Years)\n",
      "3          104  David         IT   80000                   9\n",
      "4          105    Eve         HR   55000                   4\n"
     ]
    }
   ],
   "source": [
    "\n",
    "print(df.tail(2)) # Last 2 rows\n"
   ]
  },
  {
   "cell_type": "markdown",
   "id": "a7d107e7",
   "metadata": {},
   "source": [
    "# Get Shape of the Data\n"
   ]
  },
  {
   "cell_type": "code",
   "execution_count": 15,
   "id": "f657c668",
   "metadata": {},
   "outputs": [
    {
     "name": "stdout",
     "output_type": "stream",
     "text": [
      "(5, 5)\n"
     ]
    }
   ],
   "source": [
    "print(df.shape) # (rows, columns)\n"
   ]
  },
  {
   "cell_type": "markdown",
   "id": "3b630713",
   "metadata": {},
   "source": [
    "# Get General Information\n"
   ]
  },
  {
   "cell_type": "code",
   "execution_count": 16,
   "id": "b89b08ce",
   "metadata": {},
   "outputs": [
    {
     "name": "stdout",
     "output_type": "stream",
     "text": [
      "<class 'pandas.core.frame.DataFrame'>\n",
      "RangeIndex: 5 entries, 0 to 4\n",
      "Data columns (total 5 columns):\n",
      " #   Column              Non-Null Count  Dtype \n",
      "---  ------              --------------  ----- \n",
      " 0   Employee_ID         5 non-null      int64 \n",
      " 1   Name                5 non-null      object\n",
      " 2   Department          5 non-null      object\n",
      " 3   Salary              5 non-null      int64 \n",
      " 4   Experience (Years)  5 non-null      int64 \n",
      "dtypes: int64(3), object(2)\n",
      "memory usage: 332.0+ bytes\n",
      "None\n"
     ]
    }
   ],
   "source": [
    "print(df.info())\n"
   ]
  },
  {
   "cell_type": "markdown",
   "id": "f0650007",
   "metadata": {},
   "source": [
    "# Get Summary Statistics\n"
   ]
  },
  {
   "cell_type": "code",
   "execution_count": 17,
   "id": "c8e0258f",
   "metadata": {},
   "outputs": [
    {
     "name": "stdout",
     "output_type": "stream",
     "text": [
      "       Employee_ID        Salary  Experience (Years)\n",
      "count     5.000000      5.000000            5.000000\n",
      "mean    103.000000  63000.000000            6.200000\n",
      "std       1.581139  12041.594579            1.923538\n",
      "min     101.000000  50000.000000            4.000000\n",
      "25%     102.000000  55000.000000            5.000000\n",
      "50%     103.000000  60000.000000            6.000000\n",
      "75%     104.000000  70000.000000            7.000000\n",
      "max     105.000000  80000.000000            9.000000\n"
     ]
    }
   ],
   "source": [
    "print(df.describe()) # Shows mean, min, max, std, etc"
   ]
  },
  {
   "cell_type": "markdown",
   "id": "68afce35",
   "metadata": {},
   "source": [
    "df.to_csv(\"employee_data.csv\", index=False) \n",
    "print(\"CSV file saved successfully!\")"
   ]
  },
  {
   "cell_type": "code",
   "execution_count": 18,
   "id": "9262dee2",
   "metadata": {},
   "outputs": [
    {
     "name": "stdout",
     "output_type": "stream",
     "text": [
      "    A B C\n",
      "0  1 2 3 \n",
      "1  4 5 6 \n",
      "2   7 8 9\n"
     ]
    }
   ],
   "source": [
    "df_new = pd.read_csv(\"employee_data.csv\")\n",
    "print(df_new.head()) # Display first few rows"
   ]
  }
 ],
 "metadata": {
  "kernelspec": {
   "display_name": "Python 3",
   "language": "python",
   "name": "python3"
  },
  "language_info": {
   "codemirror_mode": {
    "name": "ipython",
    "version": 3
   },
   "file_extension": ".py",
   "mimetype": "text/x-python",
   "name": "python",
   "nbconvert_exporter": "python",
   "pygments_lexer": "ipython3",
   "version": "3.13.5"
  }
 },
 "nbformat": 4,
 "nbformat_minor": 5
}
