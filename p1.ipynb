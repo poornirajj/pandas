{
 "cells": [
  {
   "cell_type": "code",
   "execution_count": 1,
   "id": "d7fc171f",
   "metadata": {},
   "outputs": [],
   "source": [
    "import pandas as pd"
   ]
  },
  {
   "cell_type": "code",
   "execution_count": 2,
   "id": "79ec5e06",
   "metadata": {},
   "outputs": [
    {
     "name": "stdout",
     "output_type": "stream",
     "text": [
      "    Product     Category Region  Price  Quantity\n",
      "0    Laptop  Electronics   East    800         5\n",
      "1     Mouse  Accessories   West     50        10\n",
      "2  Keyboard  Accessories   East    100         8\n",
      "3    Laptop  Electronics   West    850         3\n",
      "4     Mouse  Accessories   East     55        15\n",
      "5  Keyboard  Accessories   West    120        12\n"
     ]
    }
   ],
   "source": [
    "data = {\n",
    " 'Product': ['Laptop', 'Mouse', 'Keyboard', 'Laptop', 'Mouse', 'Keyboard'],\n",
    " 'Category': ['Electronics', 'Accessories', 'Accessories', 'Electronics', 'Accessories', \n",
    "'Accessories'],\n",
    " 'Region': ['East', 'West', 'East', 'West', 'East', 'West'],\n",
    " 'Price': [800, 50, 100, 850, 55, 120],\n",
    " 'Quantity': [5, 10, 8, 3, 15, 12]\n",
    "}\n",
    "df = pd.DataFrame(data)\n",
    "print(df)"
   ]
  },
  {
   "cell_type": "code",
   "execution_count": 3,
   "id": "e1662494",
   "metadata": {},
   "outputs": [
    {
     "name": "stdout",
     "output_type": "stream",
     "text": [
      "    Product  Price  Discounted Price\n",
      "0    Laptop    800            720.00\n",
      "1     Mouse     50             47.50\n",
      "2  Keyboard    100             95.00\n",
      "3    Laptop    850            765.00\n",
      "4     Mouse     55             52.25\n",
      "5  Keyboard    120            114.00\n"
     ]
    }
   ],
   "source": [
    "df['Discounted Price'] = df.apply(\n",
    " lambda row: row['Price'] * 0.9 if row['Category'] == 'Electronics' else \n",
    "row['Price'] * 0.95, axis=1\n",
    ")\n",
    "print(df[['Product', 'Price', 'Discounted Price']])"
   ]
  },
  {
   "cell_type": "code",
   "execution_count": 4,
   "id": "86fc5859",
   "metadata": {},
   "outputs": [
    {
     "name": "stdout",
     "output_type": "stream",
     "text": [
      "              Price  Quantity  Discounted Price\n",
      "Category                                       \n",
      "Accessories   81.25        45            308.75\n",
      "Electronics  825.00         8           1485.00\n"
     ]
    }
   ],
   "source": [
    "category_summary = df.groupby('Category').agg({\n",
    " 'Price': 'mean',\n",
    " 'Quantity': 'sum',\n",
    " 'Discounted Price': 'sum'\n",
    "})\n",
    "print(category_summary)"
   ]
  },
  {
   "cell_type": "code",
   "execution_count": 5,
   "id": "8d820861",
   "metadata": {},
   "outputs": [
    {
     "name": "stdout",
     "output_type": "stream",
     "text": [
      "Product  Keyboard  Laptop  Mouse\n",
      "Region                          \n",
      "East         95.0   720.0  52.25\n",
      "West        114.0   765.0  47.50\n"
     ]
    }
   ],
   "source": [
    "pivot_table = df.pivot_table(values='Discounted Price', index='Region', \n",
    "columns='Product', aggfunc='sum')\n",
    "print(pivot_table)"
   ]
  },
  {
   "cell_type": "code",
   "execution_count": 6,
   "id": "79c3f4c0",
   "metadata": {},
   "outputs": [
    {
     "name": "stdout",
     "output_type": "stream",
     "text": [
      "    Product  Total Revenue\n",
      "0    Laptop        3600.00\n",
      "3    Laptop        2295.00\n",
      "5  Keyboard        1368.00\n",
      "4     Mouse         783.75\n",
      "2  Keyboard         760.00\n",
      "1     Mouse         475.00\n"
     ]
    }
   ],
   "source": [
    "df['Total Revenue'] = df['Quantity'] * df['Discounted Price']\n",
    "df_sorted = df.sort_values(by='Total Revenue', ascending=False)\n",
    "print(df_sorted[['Product', 'Total Revenue']])"
   ]
  }
 ],
 "metadata": {
  "kernelspec": {
   "display_name": "Python 3",
   "language": "python",
   "name": "python3"
  },
  "language_info": {
   "codemirror_mode": {
    "name": "ipython",
    "version": 3
   },
   "file_extension": ".py",
   "mimetype": "text/x-python",
   "name": "python",
   "nbconvert_exporter": "python",
   "pygments_lexer": "ipython3",
   "version": "3.13.5"
  }
 },
 "nbformat": 4,
 "nbformat_minor": 5
}
