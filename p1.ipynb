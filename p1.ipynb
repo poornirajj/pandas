{
 "cells": [
  {
   "cell_type": "code",
   "execution_count": 6,
   "id": "6f4febda",
   "metadata": {},
   "outputs": [],
   "source": [
    "import pandas as pd\n",
    "import numpy as np"
   ]
  },
  {
   "cell_type": "code",
   "execution_count": 7,
   "id": "986e4197",
   "metadata": {},
   "outputs": [
    {
     "name": "stdout",
     "output_type": "stream",
     "text": [
      "   Customer_ID     Name   Age             Email   Join_Date  Spending ($)\n",
      "0          101    Alice  25.0    alice@mail.com  2024-01-01         500.0\n",
      "1          102      Bob  30.0      bob@mail.com  2024-02-15           NaN\n",
      "2          103  Charlie   NaN  charlie@mail.com  2024-03-20         700.0\n",
      "3          104    David  28.0              None  2024-04-10         400.0\n",
      "4          105     None  32.0      eve@mail.com        None         600.0\n",
      "5          106      Eve  29.0      eve@mail.com  2024-06-05         350.0\n",
      "6          107    Frank   NaN    frank@mail.com  2024-07-22         800.0\n",
      "7          107    Frank  40.0    frank@mail.com  2024-07-22         800.0\n"
     ]
    }
   ],
   "source": [
    "data = {\n",
    " \"Customer_ID\": [101, 102, 103, 104, 105, 106, 107, 107],\n",
    " \"Name\": [\"Alice\", \"Bob\", \"Charlie\", \"David\", None, \"Eve\", \"Frank\", \"Frank\"],\n",
    " \"Age\": [25, 30, np.nan, 28, 32, 29, None, 40],\n",
    " \"Email\": [\"alice@mail.com\", \"bob@mail.com\", \"charlie@mail.com\", None, \n",
    "\"eve@mail.com\", \"eve@mail.com\", \"frank@mail.com\", \"frank@mail.com\"],\n",
    " \"Join_Date\": [\"2024-01-01\", \"2024-02-15\", \"2024-03-20\", \"2024-04-10\", None, \n",
    "\"2024-06-05\", \"2024-07-22\", \"2024-07-22\"],\n",
    " \"Spending ($)\": [500, np.nan, 700, 400, 600, 350, 800, 800]\n",
    "}\n",
    "df = pd.DataFrame(data)\n",
    "print(df)"
   ]
  },
  {
   "cell_type": "code",
   "execution_count": 8,
   "id": "a5b973c7",
   "metadata": {},
   "outputs": [
    {
     "name": "stdout",
     "output_type": "stream",
     "text": [
      "Customer_ID     0\n",
      "Name            1\n",
      "Age             2\n",
      "Email           1\n",
      "Join_Date       1\n",
      "Spending ($)    1\n",
      "dtype: int64\n"
     ]
    }
   ],
   "source": [
    "print(df.isnull().sum())"
   ]
  },
  {
   "cell_type": "code",
   "execution_count": 9,
   "id": "b2c6ccfe",
   "metadata": {},
   "outputs": [
    {
     "name": "stdout",
     "output_type": "stream",
     "text": [
      "   Customer_ID     Name   Age             Email   Join_Date  Spending ($)\n",
      "0          101    Alice  25.0    alice@mail.com  2024-01-01         500.0\n",
      "1          102      Bob  30.0      bob@mail.com  2024-02-15           NaN\n",
      "2          103  Charlie   NaN  charlie@mail.com  2024-03-20         700.0\n",
      "4          105     None  32.0      eve@mail.com        None         600.0\n",
      "5          106      Eve  29.0      eve@mail.com  2024-06-05         350.0\n",
      "6          107    Frank   NaN    frank@mail.com  2024-07-22         800.0\n",
      "7          107    Frank  40.0    frank@mail.com  2024-07-22         800.0\n"
     ]
    }
   ],
   "source": [
    "df = df.dropna(subset=[\"Email\"])\n",
    "print(df)"
   ]
  },
  {
   "cell_type": "code",
   "execution_count": 10,
   "id": "6b0b0454",
   "metadata": {},
   "outputs": [
    {
     "name": "stdout",
     "output_type": "stream",
     "text": [
      "   Customer_ID     Name   Age             Email   Join_Date  Spending ($)\n",
      "0          101    Alice  25.0    alice@mail.com  2024-01-01         500.0\n",
      "1          102      Bob  30.0      bob@mail.com  2024-02-15         650.0\n",
      "2          103  Charlie  31.2  charlie@mail.com  2024-03-20         700.0\n",
      "4          105     None  32.0      eve@mail.com        None         600.0\n",
      "5          106      Eve  29.0      eve@mail.com  2024-06-05         350.0\n",
      "6          107    Frank  31.2    frank@mail.com  2024-07-22         800.0\n",
      "7          107    Frank  40.0    frank@mail.com  2024-07-22         800.0\n"
     ]
    },
    {
     "name": "stderr",
     "output_type": "stream",
     "text": [
      "C:\\Users\\Ayyappan\\AppData\\Local\\Temp\\ipykernel_8812\\3762012594.py:1: FutureWarning: A value is trying to be set on a copy of a DataFrame or Series through chained assignment using an inplace method.\n",
      "The behavior will change in pandas 3.0. This inplace method will never work because the intermediate object on which we are setting values always behaves as a copy.\n",
      "\n",
      "For example, when doing 'df[col].method(value, inplace=True)', try using 'df.method({col: value}, inplace=True)' or df[col] = df[col].method(value) instead, to perform the operation inplace on the original object.\n",
      "\n",
      "\n",
      "  df[\"Age\"].fillna(df[\"Age\"].mean(), inplace=True) # Fill Age with average\n",
      "C:\\Users\\Ayyappan\\AppData\\Local\\Temp\\ipykernel_8812\\3762012594.py:2: FutureWarning: A value is trying to be set on a copy of a DataFrame or Series through chained assignment using an inplace method.\n",
      "The behavior will change in pandas 3.0. This inplace method will never work because the intermediate object on which we are setting values always behaves as a copy.\n",
      "\n",
      "For example, when doing 'df[col].method(value, inplace=True)', try using 'df.method({col: value}, inplace=True)' or df[col] = df[col].method(value) instead, to perform the operation inplace on the original object.\n",
      "\n",
      "\n",
      "  df[\"Spending ($)\"].fillna(df[\"Spending ($)\"].median(), inplace=True) # Fill Spending with median\n"
     ]
    }
   ],
   "source": [
    "df[\"Age\"].fillna(df[\"Age\"].mean(), inplace=True) # Fill Age with average\n",
    "df[\"Spending ($)\"].fillna(df[\"Spending ($)\"].median(), inplace=True) # Fill Spending with median\n",
    "print(df)"
   ]
  },
  {
   "cell_type": "code",
   "execution_count": 11,
   "id": "0eef9fba",
   "metadata": {},
   "outputs": [
    {
     "name": "stdout",
     "output_type": "stream",
     "text": [
      "Customer_ID              int64\n",
      "Name                    object\n",
      "Age                    float64\n",
      "Email                   object\n",
      "Join_Date       datetime64[ns]\n",
      "Spending ($)           float64\n",
      "dtype: object\n"
     ]
    }
   ],
   "source": [
    "df[\"Join_Date\"] = pd.to_datetime(df[\"Join_Date\"])\n",
    "print(df.dtypes)"
   ]
  },
  {
   "cell_type": "code",
   "execution_count": 12,
   "id": "0881c252",
   "metadata": {},
   "outputs": [
    {
     "name": "stdout",
     "output_type": "stream",
     "text": [
      "   Customer_ID     Name   Age             Email  Join_Date  Spending ($)\n",
      "0          101    Alice  25.0    alice@mail.com 2024-01-01         500.0\n",
      "1          102      Bob  30.0      bob@mail.com 2024-02-15         650.0\n",
      "2          103  Charlie  31.2  charlie@mail.com 2024-03-20         700.0\n",
      "4          105     None  32.0      eve@mail.com        NaT         600.0\n",
      "5          106      Eve  29.0      eve@mail.com 2024-06-05         350.0\n",
      "6          107    Frank  31.2    frank@mail.com 2024-07-22         800.0\n",
      "7          107    Frank  40.0    frank@mail.com 2024-07-22         800.0\n"
     ]
    }
   ],
   "source": [
    "df = df.drop_duplicates()\n",
    "print(df)"
   ]
  },
  {
   "cell_type": "code",
   "execution_count": 13,
   "id": "01a5cd65",
   "metadata": {},
   "outputs": [
    {
     "name": "stdout",
     "output_type": "stream",
     "text": [
      "   Customer_ID     Name   Age             Email Registration_Date  \\\n",
      "0          101    Alice  25.0    alice@mail.com        2024-01-01   \n",
      "1          102      Bob  30.0      bob@mail.com        2024-02-15   \n",
      "2          103  Charlie  31.2  charlie@mail.com        2024-03-20   \n",
      "4          105     None  32.0      eve@mail.com               NaT   \n",
      "5          106      Eve  29.0      eve@mail.com        2024-06-05   \n",
      "\n",
      "   Total_Spending  \n",
      "0           500.0  \n",
      "1           650.0  \n",
      "2           700.0  \n",
      "4           600.0  \n",
      "5           350.0  \n"
     ]
    }
   ],
   "source": [
    "df = df.rename(columns={\"Spending ($)\": \"Total_Spending\", \"Join_Date\": \n",
    "\"Registration_Date\"})\n",
    "print(df.head())"
   ]
  }
 ],
 "metadata": {
  "kernelspec": {
   "display_name": "Python 3",
   "language": "python",
   "name": "python3"
  },
  "language_info": {
   "codemirror_mode": {
    "name": "ipython",
    "version": 3
   },
   "file_extension": ".py",
   "mimetype": "text/x-python",
   "name": "python",
   "nbconvert_exporter": "python",
   "pygments_lexer": "ipython3",
   "version": "3.13.5"
  }
 },
 "nbformat": 4,
 "nbformat_minor": 5
}
