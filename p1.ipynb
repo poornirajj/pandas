{
 "cells": [
  {
   "cell_type": "code",
   "execution_count": null,
   "id": "0bbed52c",
   "metadata": {},
   "outputs": [],
   "source": [
    "import pandas as pd\n",
    "import seaborn as sns\n",
    "import matplotlib.pyplot as plt\n"
   ]
  },
  {
   "cell_type": "code",
   "execution_count": null,
   "id": "186f6b75",
   "metadata": {},
   "outputs": [],
   "source": [
    "# Student scores in three subjects\n",
    "data = {\n",
    "    'Math': [88, 92, 80, 89, 78],\n",
    "    'English': [85, 87, 82, 91, 76],\n",
    "    'Science': [90, 92, 88, 95, 80]\n",
    "}\n",
    "\n",
    "df = pd.DataFrame(data)\n",
    "print(\"Original Data:\\n\", df)\n"
   ]
  },
  {
   "cell_type": "code",
   "execution_count": null,
   "id": "b7295dd9",
   "metadata": {},
   "outputs": [],
   "source": [
    "correlation_matrix = df.corr()\n",
    "print(\"\\nCorrelation Matrix:\\n\", correlation_matrix)\n"
   ]
  },
  {
   "cell_type": "code",
   "execution_count": null,
   "id": "4e021d79",
   "metadata": {},
   "outputs": [],
   "source": [
    "plt.figure(figsize=(6, 4))\n",
    "sns.heatmap(correlation_matrix, annot=True, cmap='coolwarm', linewidths=0.5)\n",
    "plt.title('Correlation Matrix of Student Scores')\n",
    "plt.show()\n"
   ]
  },
  {
   "cell_type": "code",
   "execution_count": null,
   "id": "6aae2353",
   "metadata": {},
   "outputs": [],
   "source": [
    "plt.figure(figsize=(6, 4))\n",
    "sns.heatmap(\n",
    "    correlation_matrix,\n",
    "    annot=True,\n",
    "    cmap='Blues',\n",
    "    linewidths=1,\n",
    "    linecolor='black',\n",
    "    fmt='.2f'\n",
    ")\n",
    "plt.title('Customized Correlation Matrix of Student Scores')\n",
    "plt.show()\n"
   ]
  },
  {
   "cell_type": "code",
   "execution_count": null,
   "id": "2a0853db",
   "metadata": {},
   "outputs": [],
   "source": [
    "df.loc[2, 'Math'] = None  # Set 3rd student's Math score to NaN\n",
    "print(\"\\nData with Missing Value:\\n\", df)\n"
   ]
  },
  {
   "cell_type": "code",
   "execution_count": null,
   "id": "e97082e9",
   "metadata": {},
   "outputs": [],
   "source": [
    "# Impute missing values with the mean of each column\n",
    "df.fillna(df.mean(), inplace=True)\n",
    "print(\"\\nData After Imputation:\\n\", df)\n"
   ]
  },
  {
   "cell_type": "code",
   "execution_count": null,
   "id": "08f634ba",
   "metadata": {},
   "outputs": [],
   "source": [
    "# Recalculate correlation\n",
    "correlation_matrix = df.corr()\n",
    "\n",
    "# Replot the heatmap\n",
    "plt.figure(figsize=(6, 4))\n",
    "sns.heatmap(\n",
    "    correlation_matrix,\n",
    "    annot=True,\n",
    "    cmap='coolwarm',\n",
    "    linewidths=0.5\n",
    ")\n",
    "plt.title('Correlation Matrix After Handling Missing Data')\n",
    "plt.show()\n"
   ]
  }
 ],
 "metadata": {
  "language_info": {
   "name": "python"
  }
 },
 "nbformat": 4,
 "nbformat_minor": 5
}
