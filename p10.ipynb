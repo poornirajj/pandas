{
 "cells": [
  {
   "cell_type": "code",
   "execution_count": null,
   "id": "86cefd1a",
   "metadata": {},
   "outputs": [],
   "source": [
    "import pandas as pd\n",
    "import seaborn as sns\n",
    "import matplotlib.pyplot as plt\n",
    "\n",
    "# Set Seaborn style\n",
    "sns.set_style(\"whitegrid\")\n"
   ]
  },
  {
   "cell_type": "code",
   "execution_count": null,
   "id": "31bdb333",
   "metadata": {},
   "outputs": [],
   "source": [
    "# Replace with your actual CSV file\n",
    "df = pd.read_csv(\"student_scores.csv\")\n",
    "\n",
    "# Preview the dataset\n",
    "print(df.head())\n"
   ]
  },
  {
   "cell_type": "code",
   "execution_count": null,
   "id": "e41ff36e",
   "metadata": {},
   "outputs": [],
   "source": [
    "# Check for missing values\n",
    "print(df.isnull().sum())\n",
    "\n",
    "# Drop missing rows\n",
    "df.dropna(inplace=True)\n",
    "\n",
    "# Optional: Remove unrealistic scores\n",
    "df = df[(df['Math'] <= 100) & (df['Science'] <= 100) & (df['English'] <= 100)]\n"
   ]
  },
  {
   "cell_type": "code",
   "execution_count": null,
   "id": "bef66faf",
   "metadata": {},
   "outputs": [],
   "source": [
    "subjects = ['Math', 'Science', 'English']\n",
    "\n",
    "for subject in subjects:\n",
    "    sns.histplot(df[subject], bins=20, kde=False)\n",
    "    plt.title(f'{subject} Score Distribution')\n",
    "    plt.xlabel(f'{subject} Score')\n",
    "    plt.ylabel('Number of Students')\n",
    "    plt.show()\n"
   ]
  },
  {
   "cell_type": "code",
   "execution_count": null,
   "id": "794f9cb8",
   "metadata": {},
   "outputs": [],
   "source": [
    "for subject in subjects:\n",
    "    sns.histplot(df[subject], bins=20, kde=True)\n",
    "    plt.title(f'{subject} Score Distribution with KDE')\n",
    "    plt.xlabel(f'{subject} Score')\n",
    "    plt.ylabel('Number of Students')\n",
    "    plt.show()\n"
   ]
  },
  {
   "cell_type": "code",
   "execution_count": null,
   "id": "9acabf2e",
   "metadata": {},
   "outputs": [],
   "source": [
    "for subject in subjects:\n",
    "    sns.histplot(df[subject], bins=40, kde=True)\n",
    "    plt.title(f'{subject} Score Distribution (Custom Bins)')\n",
    "    plt.xlabel(f'{subject} Score')\n",
    "    plt.ylabel('Frequency')\n",
    "    plt.show()\n"
   ]
  },
  {
   "cell_type": "code",
   "execution_count": null,
   "id": "96415f3e",
   "metadata": {},
   "outputs": [],
   "source": [
    "for subject in subjects:\n",
    "    sns.histplot(data=df, x=subject, hue='Gender', bins=30, kde=True)\n",
    "    plt.title(f'{subject} Score Distribution by Gender')\n",
    "    plt.xlabel(f'{subject} Score')\n",
    "    plt.ylabel('Number of Students')\n",
    "    plt.show()\n"
   ]
  },
  {
   "cell_type": "code",
   "execution_count": null,
   "id": "662df2d0",
   "metadata": {},
   "outputs": [],
   "source": [
    "for subject in subjects:\n",
    "    sns.displot(data=df, x=subject, hue='Gender', kind='hist', kde=True, bins=30, height=5, aspect=1.5)\n",
    "    plt.suptitle(f'{subject} Score Distribution with KDE and Gender Split', y=1.02)\n",
    "    plt.xlabel(f'{subject} Score')\n",
    "    plt.ylabel('Frequency')\n",
    "    plt.show()\n"
   ]
  },
  {
   "cell_type": "code",
   "execution_count": null,
   "id": "25d4c1a0",
   "metadata": {},
   "outputs": [],
   "source": [
    "for subject in subjects:\n",
    "    sns.kdeplot(df[df['Gender'] == 'Male'][subject], label='Male', color='blue')\n",
    "    sns.kdeplot(df[df['Gender'] == 'Female'][subject], label='Female', color='red')\n",
    "    plt.title(f'{subject} Score KDE Comparison by Gender')\n",
    "    plt.xlabel(f'{subject} Score')\n",
    "    plt.ylabel('Density')\n",
    "    plt.legend()\n",
    "    plt.show()\n"
   ]
  },
  {
   "cell_type": "code",
   "execution_count": null,
   "id": "7eb5508f",
   "metadata": {},
   "outputs": [],
   "source": [
    "palette = {'Male': 'skyblue', 'Female': 'salmon'}\n",
    "\n",
    "for subject in subjects:\n",
    "    sns.histplot(data=df, x=subject, hue='Gender', bins=30, kde=True, palette=palette)\n",
    "    plt.title(f'{subject} Score Distribution (Custom Colors)')\n",
    "    plt.xlabel(f'{subject} Score')\n",
    "    plt.ylabel('Number of Students')\n",
    "    plt.show()\n"
   ]
  },
  {
   "cell_type": "code",
   "execution_count": null,
   "id": "ce82f5e3",
   "metadata": {},
   "outputs": [],
   "source": [
    "# Save one plot as example\n",
    "plt.figure(figsize=(8, 5))\n",
    "sns.histplot(data=df, x='Math', hue='Gender', bins=30, kde=True, palette=palette)\n",
    "plt.title('Math Score Distribution by Gender')\n",
    "plt.xlabel('Math Score')\n",
    "plt.ylabel('Number of Students')\n",
    "plt.tight_layout()\n",
    "plt.savefig('math_score_distribution_by_gender.png', dpi=300)\n",
    "plt.close()\n"
   ]
  }
 ],
 "metadata": {
  "language_info": {
   "name": "python"
  }
 },
 "nbformat": 4,
 "nbformat_minor": 5
}
