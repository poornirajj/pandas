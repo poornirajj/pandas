{
 "cells": [
  {
   "cell_type": "markdown",
   "id": "6b2618f5",
   "metadata": {},
   "source": [
    "# 1. Load the dataset into a Pandas DataFrame"
   ]
  },
  {
   "cell_type": "code",
   "execution_count": 2,
   "id": "c7e3322f",
   "metadata": {},
   "outputs": [],
   "source": [
    "import pandas as pd"
   ]
  },
  {
   "cell_type": "code",
   "execution_count": 3,
   "id": "0ba81160",
   "metadata": {},
   "outputs": [],
   "source": [
    "df = pd.read_csv('sales_data.csv')"
   ]
  },
  {
   "cell_type": "markdown",
   "id": "94bf6bf1",
   "metadata": {},
   "source": [
    "# 2. Check for missing values in each column"
   ]
  },
  {
   "cell_type": "code",
   "execution_count": 4,
   "id": "bc9aab51",
   "metadata": {},
   "outputs": [
    {
     "name": "stdout",
     "output_type": "stream",
     "text": [
      "Missing values before cleaning:\n",
      "Product_ID           0\n",
      "Sales_Amount         1\n",
      "Price                1\n",
      "Customer_Location    1\n",
      "Purchase_Date        1\n",
      "Product_Category     0\n",
      "Payment_Method       0\n",
      "dtype: int64\n"
     ]
    }
   ],
   "source": [
    "print(\"Missing values before cleaning:\")\n",
    "print(df.isnull().sum())\n"
   ]
  },
  {
   "cell_type": "markdown",
   "id": "630b8272",
   "metadata": {},
   "source": [
    "# 3. Drop rows with critical missing values (e.g., Product_ID or Sales_Amount)"
   ]
  },
  {
   "cell_type": "code",
   "execution_count": 5,
   "id": "edaf119e",
   "metadata": {},
   "outputs": [],
   "source": [
    "\n",
    "df.dropna(subset=['Product_ID', 'Sales_Amount'], inplace=True)\n"
   ]
  },
  {
   "cell_type": "markdown",
   "id": "2f3ade31",
   "metadata": {},
   "source": [
    "# 4. Fill missing values in Price with the average price of the same product category"
   ]
  },
  {
   "cell_type": "code",
   "execution_count": 6,
   "id": "c9117c70",
   "metadata": {},
   "outputs": [],
   "source": [
    "df['Price'] = df.groupby('Product_Category')['Price'].transform(lambda x: x.fillna(x.mean()))\n"
   ]
  },
  {
   "cell_type": "markdown",
   "id": "b54894ce",
   "metadata": {},
   "source": [
    "# 5. Use forward fill (ffill) and backward fill (bfill) for missing Customer_Location\n"
   ]
  },
  {
   "cell_type": "code",
   "execution_count": 7,
   "id": "5b4201c6",
   "metadata": {},
   "outputs": [
    {
     "name": "stderr",
     "output_type": "stream",
     "text": [
      "C:\\Users\\Ayyappan\\AppData\\Local\\Temp\\ipykernel_18152\\1297758392.py:1: FutureWarning: Series.fillna with 'method' is deprecated and will raise in a future version. Use obj.ffill() or obj.bfill() instead.\n",
      "  df['Customer_Location'] = df['Customer_Location'].fillna(method='ffill').fillna(method='bfill')\n"
     ]
    }
   ],
   "source": [
    "df['Customer_Location'] = df['Customer_Location'].fillna(method='ffill').fillna(method='bfill')\n"
   ]
  },
  {
   "cell_type": "markdown",
   "id": "fbf7727a",
   "metadata": {},
   "source": [
    "# 6. Fill missing Purchase_Date with the most frequent date"
   ]
  },
  {
   "cell_type": "code",
   "execution_count": 8,
   "id": "a9349fc9",
   "metadata": {},
   "outputs": [],
   "source": [
    "most_common_date = df['Purchase_Date'].mode()[0]\n",
    "df['Purchase_Date'] = df['Purchase_Date'].fillna(most_common_date)\n"
   ]
  },
  {
   "cell_type": "markdown",
   "id": "a885c9e7",
   "metadata": {},
   "source": [
    "# 7. Convert Purchase_Date to datetime format"
   ]
  },
  {
   "cell_type": "code",
   "execution_count": 9,
   "id": "9c3b2689",
   "metadata": {},
   "outputs": [],
   "source": [
    "df['Purchase_Date'] = pd.to_datetime(df['Purchase_Date'], errors='coerce')\n"
   ]
  },
  {
   "cell_type": "markdown",
   "id": "f47ae6a6",
   "metadata": {},
   "source": [
    "# 8. Standardize column names"
   ]
  },
  {
   "cell_type": "code",
   "execution_count": 10,
   "id": "72dadce3",
   "metadata": {},
   "outputs": [],
   "source": [
    "df.rename(columns={\n",
    "    'Product_ID': 'product_id',\n",
    "    'Sales_Amount': 'sales_amount',\n",
    "    'Price': 'price',\n",
    "    'Customer_Location': 'customer_location',\n",
    "    'Purchase_Date': 'purchase_date',\n",
    "    'Product_Category': 'product_category',\n",
    "    'Payment_Method': 'payment_method'\n",
    "}, inplace=True)"
   ]
  },
  {
   "cell_type": "markdown",
   "id": "b1757fa4",
   "metadata": {},
   "source": [
    "# 9. Remove duplicate sales transactions"
   ]
  },
  {
   "cell_type": "code",
   "execution_count": 11,
   "id": "9d7dbc74",
   "metadata": {},
   "outputs": [],
   "source": [
    "df.drop_duplicates(inplace=True)\n"
   ]
  },
  {
   "cell_type": "markdown",
   "id": "2a7218f8",
   "metadata": {},
   "source": [
    "# 10. Convert Product_ID to string"
   ]
  },
  {
   "cell_type": "code",
   "execution_count": 12,
   "id": "bbc00373",
   "metadata": {},
   "outputs": [],
   "source": [
    "df['product_id'] = df['product_id'].astype(str)\n"
   ]
  },
  {
   "cell_type": "markdown",
   "id": "a29c934d",
   "metadata": {},
   "source": [
    "# 11. Replace incorrect values in Payment_Method"
   ]
  },
  {
   "cell_type": "code",
   "execution_count": 13,
   "id": "69790505",
   "metadata": {},
   "outputs": [],
   "source": [
    "df['payment_method'] = df['payment_method'].replace({\n",
    "    'Csh': 'Cash',\n",
    "    'cash': 'Cash',\n",
    "    'creditcard': 'Credit Card',\n",
    "    'Creditcard': 'Credit Card',\n",
    "    'paypal': 'PayPal'\n",
    "})"
   ]
  },
  {
   "cell_type": "markdown",
   "id": "d14f9f1f",
   "metadata": {},
   "source": [
    "# 12. Sort data by Purchase_Date"
   ]
  },
  {
   "cell_type": "code",
   "execution_count": 14,
   "id": "366b81d7",
   "metadata": {},
   "outputs": [],
   "source": [
    "df.sort_values(by='purchase_date', inplace=True)\n"
   ]
  },
  {
   "cell_type": "markdown",
   "id": "84c20325",
   "metadata": {},
   "source": [
    "# 13. Save the cleaned dataset"
   ]
  },
  {
   "cell_type": "code",
   "execution_count": 15,
   "id": "e1402cec",
   "metadata": {},
   "outputs": [
    {
     "name": "stdout",
     "output_type": "stream",
     "text": [
      "✅ Data cleaning complete. Cleaned data saved to 'cleaned_sales_data.csv'\n"
     ]
    }
   ],
   "source": [
    "df.to_csv('cleaned_sales_data.csv', index=False)\n",
    "\n",
    "print(\"✅ Data cleaning complete. Cleaned data saved to 'cleaned_sales_data.csv'\")"
   ]
  }
 ],
 "metadata": {
  "kernelspec": {
   "display_name": "Python 3",
   "language": "python",
   "name": "python3"
  },
  "language_info": {
   "codemirror_mode": {
    "name": "ipython",
    "version": 3
   },
   "file_extension": ".py",
   "mimetype": "text/x-python",
   "name": "python",
   "nbconvert_exporter": "python",
   "pygments_lexer": "ipython3",
   "version": "3.13.5"
  }
 },
 "nbformat": 4,
 "nbformat_minor": 5
}
