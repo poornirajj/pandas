{
 "cells": [
  {
   "cell_type": "code",
   "execution_count": null,
   "id": "ceb4e185",
   "metadata": {},
   "outputs": [],
   "source": [
    "import pandas as pd\n",
    "import seaborn as sns\n",
    "import matplotlib.pyplot as plt\n",
    "import numpy as np\n"
   ]
  },
  {
   "cell_type": "code",
   "execution_count": null,
   "id": "14718187",
   "metadata": {},
   "outputs": [],
   "source": [
    "# Simulated financial data for 6 companies\n",
    "data = {\n",
    "    'Company': ['A', 'B', 'C', 'D', 'E', 'F'],\n",
    "    'Revenue': [1000, 1200, 900, 1100, 1150, 980],\n",
    "    'Expenses': [600, 750, 500, 700, 730, 580],\n",
    "    'Profit': [400, 450, 400, 400, 420, 400],\n",
    "    'Stock_Price': [150, 170, 145, 160, 165, 155],\n",
    "    'Profit_Margin': [0.4, 0.375, 0.444, 0.364, 0.365, 0.408]\n",
    "}\n",
    "df = pd.DataFrame(data)\n"
   ]
  },
  {
   "cell_type": "code",
   "execution_count": null,
   "id": "d7292416",
   "metadata": {},
   "outputs": [],
   "source": [
    "print(\"Missing Values:\\n\", df.isnull().sum())\n"
   ]
  },
  {
   "cell_type": "code",
   "execution_count": null,
   "id": "8bfdc252",
   "metadata": {},
   "outputs": [],
   "source": [
    "# Simulate missing value\n",
    "df.loc[2, 'Expenses'] = np.nan\n",
    "\n",
    "# Fill missing value with mean\n",
    "df['Expenses'].fillna(df['Expenses'].mean(), inplace=True)\n"
   ]
  },
  {
   "cell_type": "code",
   "execution_count": null,
   "id": "59440d9a",
   "metadata": {},
   "outputs": [],
   "source": [
    "correlation_matrix = df.drop(columns=['Company']).corr()\n"
   ]
  },
  {
   "cell_type": "code",
   "execution_count": null,
   "id": "c1f12e53",
   "metadata": {},
   "outputs": [],
   "source": [
    "print(\"\\nCorrelation Matrix:\\n\", correlation_matrix)\n"
   ]
  },
  {
   "cell_type": "code",
   "execution_count": null,
   "id": "f865c102",
   "metadata": {},
   "outputs": [],
   "source": [
    "plt.figure(figsize=(8, 6))\n",
    "sns.heatmap(correlation_matrix, annot=True)\n",
    "plt.title('Financial Metrics Correlation Heatmap')\n",
    "plt.show()\n"
   ]
  },
  {
   "cell_type": "code",
   "execution_count": null,
   "id": "7a866286",
   "metadata": {},
   "outputs": [],
   "source": [
    "plt.figure(figsize=(8, 6))\n",
    "sns.heatmap(correlation_matrix, annot=True, cmap='coolwarm')\n",
    "plt.title('Correlation Heatmap with Coolwarm Palette')\n",
    "plt.show()\n"
   ]
  },
  {
   "cell_type": "code",
   "execution_count": null,
   "id": "49497338",
   "metadata": {},
   "outputs": [],
   "source": [
    "plt.figure(figsize=(8, 6))\n",
    "sns.heatmap(\n",
    "    correlation_matrix,\n",
    "    annot=True,\n",
    "    cmap='viridis',\n",
    "    linewidths=1,\n",
    "    linecolor='white'\n",
    ")\n",
    "plt.title('Financial Correlation Heatmap with Borders')\n",
    "plt.show()\n"
   ]
  },
  {
   "cell_type": "code",
   "execution_count": null,
   "id": "13ddbef1",
   "metadata": {},
   "outputs": [],
   "source": [
    "# If needed, mask missing values:\n",
    "mask = correlation_matrix.isnull()\n",
    "\n",
    "plt.figure(figsize=(8, 6))\n",
    "sns.heatmap(correlation_matrix, annot=True, cmap='coolwarm', mask=mask)\n",
    "plt.title('Correlation Heatmap with Missing Values Masked')\n",
    "plt.show()\n"
   ]
  },
  {
   "cell_type": "code",
   "execution_count": null,
   "id": "f5c254ac",
   "metadata": {},
   "outputs": [],
   "source": [
    "from matplotlib.colors import LinearSegmentedColormap\n",
    "\n",
    "# Define a custom diverging colormap\n",
    "custom_cmap = LinearSegmentedColormap.from_list(\"custom_cmap\", [\"#d73027\", \"#ffffbf\", \"#1a9850\"])\n",
    "\n",
    "plt.figure(figsize=(8, 6))\n",
    "sns.heatmap(correlation_matrix, annot=True, cmap=custom_cmap, linewidths=0.5)\n",
    "plt.title('Custom Colormap: Financial Metrics Correlation')\n",
    "plt.show()\n"
   ]
  }
 ],
 "metadata": {
  "language_info": {
   "name": "python"
  }
 },
 "nbformat": 4,
 "nbformat_minor": 5
}
