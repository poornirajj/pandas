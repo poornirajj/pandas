{
 "cells": [
  {
   "cell_type": "code",
   "execution_count": null,
   "id": "805b3249",
   "metadata": {},
   "outputs": [],
   "source": [
    "import pandas as pd\n",
    "import seaborn as sns\n",
    "import matplotlib.pyplot as plt\n",
    "\n",
    "# Optional: Set a visual theme\n",
    "sns.set_style(\"whitegrid\")\n"
   ]
  },
  {
   "cell_type": "code",
   "execution_count": null,
   "id": "ffec2bd9",
   "metadata": {},
   "outputs": [],
   "source": [
    "# Replace with your actual file path\n",
    "salary_data = pd.read_csv(\"employee_salary_data.csv\")\n",
    "\n",
    "# Preview the data\n",
    "print(salary_data.head())\n"
   ]
  },
  {
   "cell_type": "code",
   "execution_count": null,
   "id": "5931e4e6",
   "metadata": {},
   "outputs": [],
   "source": [
    "# Check for missing values\n",
    "print(salary_data.isnull().sum())\n",
    "\n",
    "# Drop rows with missing values\n",
    "salary_data.dropna(inplace=True)\n"
   ]
  },
  {
   "cell_type": "code",
   "execution_count": null,
   "id": "2269fe96",
   "metadata": {},
   "outputs": [],
   "source": [
    "sns.histplot(salary_data['Salary'], kde=False, bins=30)\n",
    "plt.title('Salary Distribution')\n",
    "plt.xlabel('Salary')\n",
    "plt.ylabel('Frequency')\n",
    "plt.show()\n"
   ]
  },
  {
   "cell_type": "code",
   "execution_count": null,
   "id": "1f313f6c",
   "metadata": {},
   "outputs": [],
   "source": [
    "sns.histplot(salary_data['Salary'], kde=True, bins=30)\n",
    "plt.title('Salary Distribution with KDE')\n",
    "plt.xlabel('Salary')\n",
    "plt.ylabel('Frequency')\n",
    "plt.show()\n"
   ]
  },
  {
   "cell_type": "code",
   "execution_count": null,
   "id": "247d4191",
   "metadata": {},
   "outputs": [],
   "source": [
    "sns.histplot(salary_data['Salary'], kde=True, bins=50)\n",
    "plt.title('Salary Distribution (Custom Bin Size)')\n",
    "plt.xlabel('Salary')\n",
    "plt.ylabel('Frequency')\n",
    "plt.show()\n"
   ]
  },
  {
   "cell_type": "code",
   "execution_count": null,
   "id": "5b7eb0d0",
   "metadata": {},
   "outputs": [],
   "source": [
    "sns.histplot(data=salary_data, x='Salary', hue='Department', kde=True, bins=30)\n",
    "plt.title('Salary Distribution by Department')\n",
    "plt.xlabel('Salary')\n",
    "plt.ylabel('Frequency')\n",
    "plt.show()\n"
   ]
  },
  {
   "cell_type": "code",
   "execution_count": null,
   "id": "85b3a664",
   "metadata": {},
   "outputs": [],
   "source": [
    "sns.displot(salary_data['Salary'], kde=True, bins=30)\n",
    "plt.title('Salary Distribution (Dist Plot)')\n",
    "plt.xlabel('Salary')\n",
    "plt.ylabel('Frequency')\n",
    "plt.show()\n"
   ]
  },
  {
   "cell_type": "code",
   "execution_count": null,
   "id": "1610d4b9",
   "metadata": {},
   "outputs": [],
   "source": [
    "# Example comparison between two departments\n",
    "sns.kdeplot(data=salary_data[salary_data['Department'] == 'HR'], x='Salary', label='HR', color='blue')\n",
    "sns.kdeplot(data=salary_data[salary_data['Department'] == 'IT'], x='Salary', label='IT', color='green')\n",
    "\n",
    "plt.title('KDE Comparison: HR vs IT')\n",
    "plt.xlabel('Salary')\n",
    "plt.ylabel('Density')\n",
    "plt.legend()\n",
    "plt.show()\n"
   ]
  },
  {
   "cell_type": "code",
   "execution_count": null,
   "id": "445c7786",
   "metadata": {},
   "outputs": [],
   "source": [
    "sns.histplot(salary_data['Salary'], kde=True, bins=30)\n",
    "plt.title('Distribution of Employee Salaries')\n",
    "plt.xlabel('Salary in USD')\n",
    "plt.ylabel('Number of Employees')\n",
    "plt.show()\n"
   ]
  },
  {
   "cell_type": "code",
   "execution_count": null,
   "id": "d76b2875",
   "metadata": {},
   "outputs": [],
   "source": [
    "sns.histplot(data=salary_data, x='Salary', hue='Department', kde=True, bins=30, palette='Set2')\n",
    "plt.title('Salary Distribution by Department (Custom Colors)')\n",
    "plt.xlabel('Salary')\n",
    "plt.ylabel('Frequency')\n",
    "plt.show()\n"
   ]
  },
  {
   "cell_type": "code",
   "execution_count": null,
   "id": "8c9f2055",
   "metadata": {},
   "outputs": [],
   "source": [
    "plt.figure(figsize=(8, 5))\n",
    "sns.histplot(data=salary_data, x='Salary', hue='Department', kde=True, bins=30, palette='Set2')\n",
    "plt.title('Final Salary Distribution by Department')\n",
    "plt.xlabel('Salary in USD')\n",
    "plt.ylabel('Frequency')\n",
    "plt.tight_layout()\n",
    "plt.savefig('salary_distribution_by_department.png', dpi=300)\n",
    "plt.close()\n"
   ]
  },
  {
   "cell_type": "code",
   "execution_count": null,
   "id": "b16afc8a",
   "metadata": {},
   "outputs": [],
   "source": [
    "sns.histplot(data=salary_data, x='Salary', hue='Department', kde=True, bins=30, palette='Set2')\n",
    "plt.title('Salary Distribution by Department (Final)')\n",
    "plt.xlabel('Salary in USD')\n",
    "plt.ylabel('Frequency')\n",
    "plt.show()\n"
   ]
  }
 ],
 "metadata": {
  "language_info": {
   "name": "python"
  }
 },
 "nbformat": 4,
 "nbformat_minor": 5
}
