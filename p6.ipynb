{
 "cells": [
  {
   "cell_type": "code",
   "execution_count": null,
   "id": "fc143cfc",
   "metadata": {},
   "outputs": [],
   "source": [
    "import pandas as pd\n",
    "import seaborn as sns\n",
    "import matplotlib.pyplot as plt\n",
    "\n",
    "# Optional: Set Seaborn style\n",
    "sns.set_style(\"whitegrid\")\n"
   ]
  },
  {
   "cell_type": "code",
   "execution_count": null,
   "id": "f9b24843",
   "metadata": {},
   "outputs": [],
   "source": [
    "# Load your dataset (update with your actual file path)\n",
    "sales_data = pd.read_csv(\"sales_data.csv\")\n",
    "\n",
    "# Preview the data\n",
    "print(sales_data.head())\n"
   ]
  },
  {
   "cell_type": "code",
   "execution_count": null,
   "id": "a8788925",
   "metadata": {},
   "outputs": [],
   "source": [
    "# Check for nulls\n",
    "print(sales_data.isnull().sum())\n",
    "\n",
    "# Drop missing values\n",
    "sales_data.dropna(inplace=True)\n"
   ]
  },
  {
   "cell_type": "code",
   "execution_count": null,
   "id": "9b5e2eee",
   "metadata": {},
   "outputs": [],
   "source": [
    "sns.histplot(sales_data['SalesAmount'], kde=False, bins=30)\n",
    "plt.title('Sales Amount Distribution')\n",
    "plt.xlabel('Sales Amount')\n",
    "plt.ylabel('Frequency')\n",
    "plt.show()\n"
   ]
  },
  {
   "cell_type": "code",
   "execution_count": null,
   "id": "6791b2a2",
   "metadata": {},
   "outputs": [],
   "source": [
    "sns.histplot(sales_data['SalesAmount'], kde=True, bins=50)\n",
    "plt.title('Sales Amount Distribution (50 Bins)')\n",
    "plt.xlabel('Sales Amount')\n",
    "plt.ylabel('Frequency')\n",
    "plt.show()\n"
   ]
  },
  {
   "cell_type": "code",
   "execution_count": null,
   "id": "a8b6c5c6",
   "metadata": {},
   "outputs": [],
   "source": [
    "sns.histplot(sales_data, x='SalesAmount', hue='Region', kde=True, bins=30)\n",
    "plt.title('Sales Amount Distribution by Region')\n",
    "plt.xlabel('Sales Amount')\n",
    "plt.ylabel('Frequency')\n",
    "plt.show()\n"
   ]
  },
  {
   "cell_type": "code",
   "execution_count": null,
   "id": "5818e576",
   "metadata": {},
   "outputs": [],
   "source": [
    "sns.displot(sales_data['SalesAmount'], kde=True, bins=30)\n",
    "plt.title('Sales Amount Distribution (Dist Plot)')\n",
    "plt.xlabel('Sales Amount')\n",
    "plt.ylabel('Frequency')\n",
    "plt.show()\n"
   ]
  },
  {
   "cell_type": "code",
   "execution_count": null,
   "id": "95dfa2de",
   "metadata": {},
   "outputs": [],
   "source": [
    "# Filter data for two specific regions (e.g., North and South)\n",
    "sns.kdeplot(\n",
    "    data=sales_data[sales_data['Region'] == 'North'], \n",
    "    x='SalesAmount', \n",
    "    label='North', \n",
    "    color='blue'\n",
    ")\n",
    "\n",
    "sns.kdeplot(\n",
    "    data=sales_data[sales_data['Region'] == 'South'], \n",
    "    x='SalesAmount', \n",
    "    label='South', \n",
    "    color='red'\n",
    ")\n",
    "\n",
    "plt.title('KDE Comparison: North vs South')\n",
    "plt.xlabel('Sales Amount')\n",
    "plt.ylabel('Density')\n",
    "plt.legend()\n",
    "plt.show()\n"
   ]
  },
  {
   "cell_type": "code",
   "execution_count": null,
   "id": "7009607f",
   "metadata": {},
   "outputs": [],
   "source": [
    "sns.histplot(sales_data['SalesAmount'], kde=True, bins=30)\n",
    "plt.title('Distribution of Sales Amounts')\n",
    "plt.xlabel('Sales Amount in USD')\n",
    "plt.ylabel('Number of Transactions')\n",
    "plt.show()\n"
   ]
  },
  {
   "cell_type": "code",
   "execution_count": null,
   "id": "6f285756",
   "metadata": {},
   "outputs": [],
   "source": [
    "sns.histplot(\n",
    "    sales_data, \n",
    "    x='SalesAmount', \n",
    "    hue='Region', \n",
    "    kde=True, \n",
    "    bins=30, \n",
    "    palette='Set1'\n",
    ")\n",
    "plt.title('Sales Amount Distribution by Region (Color-Coded)')\n",
    "plt.xlabel('Sales Amount')\n",
    "plt.ylabel('Frequency')\n",
    "plt.show()\n"
   ]
  },
  {
   "cell_type": "code",
   "execution_count": null,
   "id": "ba8e0780",
   "metadata": {},
   "outputs": [],
   "source": [
    "plt.figure(figsize=(8,5))\n",
    "sns.histplot(sales_data['SalesAmount'], kde=True, bins=30)\n",
    "plt.title('Sales Amount Distribution with KDE')\n",
    "plt.xlabel('Sales Amount')\n",
    "plt.ylabel('Frequency')\n",
    "plt.tight_layout()\n",
    "plt.savefig('sales_amount_distribution.png', dpi=300)\n",
    "plt.close()\n"
   ]
  },
  {
   "cell_type": "code",
   "execution_count": null,
   "id": "79179ead",
   "metadata": {},
   "outputs": [],
   "source": [
    "sns.histplot(sales_data['SalesAmount'], kde=True, bins=30)\n",
    "plt.title('Final Sales Amount Distribution')\n",
    "plt.xlabel('Sales Amount')\n",
    "plt.ylabel('Frequency')\n",
    "plt.show()\n"
   ]
  }
 ],
 "metadata": {
  "language_info": {
   "name": "python"
  }
 },
 "nbformat": 4,
 "nbformat_minor": 5
}
