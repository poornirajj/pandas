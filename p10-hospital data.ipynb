{
 "cells": [
  {
   "cell_type": "code",
   "execution_count": 5,
   "id": "647ed163",
   "metadata": {},
   "outputs": [
    {
     "name": "stdout",
     "output_type": "stream",
     "text": [
      "First 5 rows:\n",
      "   | Patient_ID | Age | Blood_Pressure | Disease       | City        | Cholesterol | Heart\\_Disease | Family\\_History |\n",
      "0  | ----------- | --- | --------------- | ------...                                                                  \n",
      "1  | 101         | 65  | 130             | Diabet...                                                                  \n",
      "2  | 102         | 58  | 125             | Heart ...                                                                  \n",
      "3  | 103         | 45  | 115             | Hypert...                                                                  \n",
      "4                                    | 104         |                                                                  \n",
      "\n",
      "Last 5 rows:\n",
      "   | Patient_ID | Age | Blood_Pressure | Disease       | City        | Cholesterol | Heart\\_Disease | Family\\_History |\n",
      "2  | 102         | 58  | 125             | Heart ...                                                                  \n",
      "3  | 103         | 45  | 115             | Hypert...                                                                  \n",
      "4                                    | 104         |                                                                  \n",
      "5                                         | 105                                                                       \n",
      "6                                              | 106                                                                  \n"
     ]
    },
    {
     "ename": "KeyError",
     "evalue": "\"None of [Index(['Patient_ID', 'Age', 'Blood_Pressure', 'Disease'], dtype='object')] are in the [columns]\"",
     "output_type": "error",
     "traceback": [
      "\u001b[31m---------------------------------------------------------------------------\u001b[39m",
      "\u001b[31mKeyError\u001b[39m                                  Traceback (most recent call last)",
      "\u001b[36mCell\u001b[39m\u001b[36m \u001b[39m\u001b[32mIn[5]\u001b[39m\u001b[32m, line 11\u001b[39m\n\u001b[32m      8\u001b[39m \u001b[38;5;28mprint\u001b[39m(\u001b[33m\"\u001b[39m\u001b[38;5;130;01m\\n\u001b[39;00m\u001b[33mLast 5 rows:\u001b[39m\u001b[38;5;130;01m\\n\u001b[39;00m\u001b[33m\"\u001b[39m, df.tail())\n\u001b[32m     10\u001b[39m \u001b[38;5;66;03m# 3. Select specific columns\u001b[39;00m\n\u001b[32m---> \u001b[39m\u001b[32m11\u001b[39m selected_columns = \u001b[43mdf\u001b[49m\u001b[43m[\u001b[49m\u001b[43m[\u001b[49m\u001b[33;43m'\u001b[39;49m\u001b[33;43mPatient_ID\u001b[39;49m\u001b[33;43m'\u001b[39;49m\u001b[43m,\u001b[49m\u001b[33;43m'\u001b[39;49m\u001b[33;43mAge\u001b[39;49m\u001b[33;43m'\u001b[39;49m\u001b[43m,\u001b[49m\u001b[33;43m'\u001b[39;49m\u001b[33;43mBlood_Pressure\u001b[39;49m\u001b[33;43m'\u001b[39;49m\u001b[43m,\u001b[49m\u001b[33;43m'\u001b[39;49m\u001b[33;43mDisease\u001b[39;49m\u001b[33;43m'\u001b[39;49m\u001b[43m]\u001b[49m\u001b[43m]\u001b[49m\n\u001b[32m     12\u001b[39m \u001b[38;5;28mprint\u001b[39m(\u001b[33m\"\u001b[39m\u001b[38;5;130;01m\\n\u001b[39;00m\u001b[33mSelected Columns:\u001b[39m\u001b[38;5;130;01m\\n\u001b[39;00m\u001b[33m\"\u001b[39m, selected_columns.head())\n\u001b[32m     14\u001b[39m \u001b[38;5;66;03m# 4. Retrieve patient records where Disease is 'Diabetes'\u001b[39;00m\n",
      "\u001b[36mFile \u001b[39m\u001b[32mc:\\Users\\Ayyappan\\AppData\\Local\\Programs\\Python\\Python313\\Lib\\site-packages\\pandas\\core\\frame.py:4113\u001b[39m, in \u001b[36mDataFrame.__getitem__\u001b[39m\u001b[34m(self, key)\u001b[39m\n\u001b[32m   4111\u001b[39m     \u001b[38;5;28;01mif\u001b[39;00m is_iterator(key):\n\u001b[32m   4112\u001b[39m         key = \u001b[38;5;28mlist\u001b[39m(key)\n\u001b[32m-> \u001b[39m\u001b[32m4113\u001b[39m     indexer = \u001b[38;5;28;43mself\u001b[39;49m\u001b[43m.\u001b[49m\u001b[43mcolumns\u001b[49m\u001b[43m.\u001b[49m\u001b[43m_get_indexer_strict\u001b[49m\u001b[43m(\u001b[49m\u001b[43mkey\u001b[49m\u001b[43m,\u001b[49m\u001b[43m \u001b[49m\u001b[33;43m\"\u001b[39;49m\u001b[33;43mcolumns\u001b[39;49m\u001b[33;43m\"\u001b[39;49m\u001b[43m)\u001b[49m[\u001b[32m1\u001b[39m]\n\u001b[32m   4115\u001b[39m \u001b[38;5;66;03m# take() does not accept boolean indexers\u001b[39;00m\n\u001b[32m   4116\u001b[39m \u001b[38;5;28;01mif\u001b[39;00m \u001b[38;5;28mgetattr\u001b[39m(indexer, \u001b[33m\"\u001b[39m\u001b[33mdtype\u001b[39m\u001b[33m\"\u001b[39m, \u001b[38;5;28;01mNone\u001b[39;00m) == \u001b[38;5;28mbool\u001b[39m:\n",
      "\u001b[36mFile \u001b[39m\u001b[32mc:\\Users\\Ayyappan\\AppData\\Local\\Programs\\Python\\Python313\\Lib\\site-packages\\pandas\\core\\indexes\\base.py:6212\u001b[39m, in \u001b[36mIndex._get_indexer_strict\u001b[39m\u001b[34m(self, key, axis_name)\u001b[39m\n\u001b[32m   6209\u001b[39m \u001b[38;5;28;01melse\u001b[39;00m:\n\u001b[32m   6210\u001b[39m     keyarr, indexer, new_indexer = \u001b[38;5;28mself\u001b[39m._reindex_non_unique(keyarr)\n\u001b[32m-> \u001b[39m\u001b[32m6212\u001b[39m \u001b[38;5;28;43mself\u001b[39;49m\u001b[43m.\u001b[49m\u001b[43m_raise_if_missing\u001b[49m\u001b[43m(\u001b[49m\u001b[43mkeyarr\u001b[49m\u001b[43m,\u001b[49m\u001b[43m \u001b[49m\u001b[43mindexer\u001b[49m\u001b[43m,\u001b[49m\u001b[43m \u001b[49m\u001b[43maxis_name\u001b[49m\u001b[43m)\u001b[49m\n\u001b[32m   6214\u001b[39m keyarr = \u001b[38;5;28mself\u001b[39m.take(indexer)\n\u001b[32m   6215\u001b[39m \u001b[38;5;28;01mif\u001b[39;00m \u001b[38;5;28misinstance\u001b[39m(key, Index):\n\u001b[32m   6216\u001b[39m     \u001b[38;5;66;03m# GH 42790 - Preserve name from an Index\u001b[39;00m\n",
      "\u001b[36mFile \u001b[39m\u001b[32mc:\\Users\\Ayyappan\\AppData\\Local\\Programs\\Python\\Python313\\Lib\\site-packages\\pandas\\core\\indexes\\base.py:6261\u001b[39m, in \u001b[36mIndex._raise_if_missing\u001b[39m\u001b[34m(self, key, indexer, axis_name)\u001b[39m\n\u001b[32m   6259\u001b[39m \u001b[38;5;28;01mif\u001b[39;00m nmissing:\n\u001b[32m   6260\u001b[39m     \u001b[38;5;28;01mif\u001b[39;00m nmissing == \u001b[38;5;28mlen\u001b[39m(indexer):\n\u001b[32m-> \u001b[39m\u001b[32m6261\u001b[39m         \u001b[38;5;28;01mraise\u001b[39;00m \u001b[38;5;167;01mKeyError\u001b[39;00m(\u001b[33mf\u001b[39m\u001b[33m\"\u001b[39m\u001b[33mNone of [\u001b[39m\u001b[38;5;132;01m{\u001b[39;00mkey\u001b[38;5;132;01m}\u001b[39;00m\u001b[33m] are in the [\u001b[39m\u001b[38;5;132;01m{\u001b[39;00maxis_name\u001b[38;5;132;01m}\u001b[39;00m\u001b[33m]\u001b[39m\u001b[33m\"\u001b[39m)\n\u001b[32m   6263\u001b[39m     not_found = \u001b[38;5;28mlist\u001b[39m(ensure_index(key)[missing_mask.nonzero()[\u001b[32m0\u001b[39m]].unique())\n\u001b[32m   6264\u001b[39m     \u001b[38;5;28;01mraise\u001b[39;00m \u001b[38;5;167;01mKeyError\u001b[39;00m(\u001b[33mf\u001b[39m\u001b[33m\"\u001b[39m\u001b[38;5;132;01m{\u001b[39;00mnot_found\u001b[38;5;132;01m}\u001b[39;00m\u001b[33m not in index\u001b[39m\u001b[33m\"\u001b[39m)\n",
      "\u001b[31mKeyError\u001b[39m: \"None of [Index(['Patient_ID', 'Age', 'Blood_Pressure', 'Disease'], dtype='object')] are in the [columns]\""
     ]
    }
   ],
   "source": [
    "import pandas as pd\n",
    "\n",
    "# 1. Load patient records into a DataFrame\n",
    "df = pd.read_csv('patient_records.csv')\n",
    "\n",
    "# 2. Display the first and last few rows\n",
    "print(\"First 5 rows:\\n\", df.head())\n",
    "print(\"\\nLast 5 rows:\\n\", df.tail())\n",
    "\n",
    "# 3. Select specific columns\n",
    "selected_columns = df[['Patient_ID','Age','Blood_Pressure','Disease']]\n",
    "print(\"\\nSelected Columns:\\n\", selected_columns.head())\n",
    "\n",
    "# 4. Retrieve patient records where Disease is 'Diabetes'\n",
    "diabetes_patients = df[df['Disease'] == 'Diabetes']\n",
    "print(\"\\nPatients with Diabetes:\\n\", diabetes_patients)\n",
    "\n",
    "# 5. Filter patients whose Age > 60\n",
    "senior_patients = df[df['Age'] > 60]\n",
    "print(\"\\nPatients over 60:\\n\", senior_patients)\n",
    "\n",
    "# 6. Blood Pressure between 120 and 140\n",
    "bp_range = df[df['Blood_Pressure'].between(120, 140)]\n",
    "print(\"\\nPatients with Blood Pressure between 120 and 140:\\n\", bp_range)\n",
    "\n",
    "# 7. Patients living in Los Angeles or Houston\n",
    "city_filter = df[df['City'].isin(['Los Angeles', 'Houston'])]\n",
    "print(\"\\nPatients in Los Angeles or Houston:\\n\", city_filter)\n",
    "\n",
    "# 8. Retrieve specific patient using .loc[] (e.g., Patient_ID = 105)\n",
    "patient_105 = df.loc[df['Patient_ID'] == 105]\n",
    "print(\"\\nDetails of Patient_ID 105:\\n\", patient_105)\n",
    "\n",
    "# 9. Select a range of rows using .iloc[] (e.g., 2nd to 5th rows)\n",
    "row_range = df.iloc[1:5]\n",
    "print(\"\\n2nd to 5th patients:\\n\", row_range)\n",
    "\n",
    "# 10. Change index to \"Patient_ID\"\n",
    "df_indexed = df.set_index('Patient_ID')\n",
    "print(\"\\nDataFrame with Patient_ID as index:\\n\", df_indexed.head())\n",
    "\n",
    "# 11. Reset index back to default\n",
    "df_reset = df_indexed.reset_index()\n",
    "print(\"\\nDataFrame after resetting index:\\n\", df_reset.head())\n",
    "\n",
    "# 12. Heart-related issues and age > 50\n",
    "heart_patients = df[(df['Disease'].str.contains('Heart', case=False)) & (df['Age'] > 50)]\n",
    "print(\"\\nPatients with heart issues and age > 50:\\n\", heart_patients)\n",
    "\n",
    "# 13. Cholesterol > 200 and family history of heart disease\n",
    "high_chol_family_history = df[(df['Cholesterol'] > 200) & (df['Family_History'] == 'Yes')]\n",
    "print(\"\\nPatients with Cholesterol > 200 and Family History:\\n\", high_chol_family_history)\n"
   ]
  }
 ],
 "metadata": {
  "kernelspec": {
   "display_name": "Python 3",
   "language": "python",
   "name": "python3"
  },
  "language_info": {
   "codemirror_mode": {
    "name": "ipython",
    "version": 3
   },
   "file_extension": ".py",
   "mimetype": "text/x-python",
   "name": "python",
   "nbconvert_exporter": "python",
   "pygments_lexer": "ipython3",
   "version": "3.13.5"
  }
 },
 "nbformat": 4,
 "nbformat_minor": 5
}
