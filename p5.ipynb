{
 "cells": [
  {
   "cell_type": "code",
   "execution_count": 3,
   "id": "6a86e9c8",
   "metadata": {},
   "outputs": [
    {
     "name": "stdout",
     "output_type": "stream",
     "text": [
      "Initial shape: (5, 7)\n",
      "Missing values:\n",
      " Attendance_ID    0\n",
      "Employee_ID      3\n",
      "Date             3\n",
      "clock_In         3\n",
      "Clock_Out        3\n",
      "Department       3\n",
      "Status           4\n",
      "dtype: int64\n",
      "✅ Attendance data cleaned and saved to 'cleaned_employee_attendance.csv'\n"
     ]
    },
    {
     "name": "stderr",
     "output_type": "stream",
     "text": [
      "C:\\Users\\Ayyappan\\AppData\\Local\\Temp\\ipykernel_11288\\877327541.py:20: UserWarning: Could not infer format, so each element will be parsed individually, falling back to `dateutil`. To ensure parsing is consistent and as-expected, please specify a format.\n",
      "  df['clock_in'] = pd.to_datetime(df['clock_in'], errors='coerce').dt.time\n",
      "C:\\Users\\Ayyappan\\AppData\\Local\\Temp\\ipykernel_11288\\877327541.py:21: UserWarning: Could not infer format, so each element will be parsed individually, falling back to `dateutil`. To ensure parsing is consistent and as-expected, please specify a format.\n",
      "  df['clock_out'] = pd.to_datetime(df['clock_out'], errors='coerce').dt.time\n"
     ]
    }
   ],
   "source": [
    "import pandas as pd\n",
    "\n",
    "# 1. Load the dataset\n",
    "df = pd.read_csv('employee_attendance.csv')\n",
    "\n",
    "# 2. Preview and check initial info\n",
    "print(\"Initial shape:\", df.shape)\n",
    "print(\"Missing values:\\n\", df.isnull().sum())\n",
    "\n",
    "# 3. Remove duplicate attendance entries (e.g., same Employee_ID + Date)\n",
    "df.drop_duplicates(subset=['Employee_ID', 'Date'], keep='first', inplace=True)\n",
    "\n",
    "# 4. Standardize column names\n",
    "df.columns = [col.strip().lower().replace(' ', '_') for col in df.columns]\n",
    "\n",
    "# 5. Convert Date to datetime\n",
    "df['date'] = pd.to_datetime(df['date'], errors='coerce')\n",
    "\n",
    "# 6. Convert clock_in and clock_out to datetime.time\n",
    "df['clock_in'] = pd.to_datetime(df['clock_in'], errors='coerce').dt.time\n",
    "df['clock_out'] = pd.to_datetime(df['clock_out'], errors='coerce').dt.time\n",
    "\n",
    "# 7. Fill missing Clock_In/Clock_Out with '00:00:00' or use domain logic\n",
    "import datetime\n",
    "df['clock_in'] = df['clock_in'].fillna(datetime.time(0, 0))\n",
    "df['clock_out'] = df['clock_out'].fillna(datetime.time(0, 0))\n",
    "\n",
    "# 8. Standardize Department names (title case)\n",
    "df['department'] = df['department'].str.strip().str.title()\n",
    "\n",
    "# 9. Standardize Status field (capitalize)\n",
    "df['status'] = df['status'].str.strip().str.capitalize()\n",
    "\n",
    "# 10. Create new column: Duration (if both times are valid)\n",
    "def calculate_duration(row):\n",
    "    try:\n",
    "        clock_in = datetime.datetime.combine(row['date'], row['clock_in'])\n",
    "        clock_out = datetime.datetime.combine(row['date'], row['clock_out'])\n",
    "        duration = (clock_out - clock_in).seconds / 3600  # in hours\n",
    "        return duration if duration >= 0 else 0\n",
    "    except:\n",
    "        return 0\n",
    "\n",
    "df['work_hours'] = df.apply(calculate_duration, axis=1)\n",
    "\n",
    "# 11. Sort by date and employee\n",
    "df.sort_values(by=['employee_id', 'date'], inplace=True)\n",
    "\n",
    "# 12. Save the cleaned dataset\n",
    "df.to_csv('cleaned_employee_attendance.csv', index=False)\n",
    "\n",
    "print(\"✅ Attendance data cleaned and saved to 'cleaned_employee_attendance.csv'\")\n"
   ]
  }
 ],
 "metadata": {
  "kernelspec": {
   "display_name": "Python 3",
   "language": "python",
   "name": "python3"
  },
  "language_info": {
   "codemirror_mode": {
    "name": "ipython",
    "version": 3
   },
   "file_extension": ".py",
   "mimetype": "text/x-python",
   "name": "python",
   "nbconvert_exporter": "python",
   "pygments_lexer": "ipython3",
   "version": "3.13.5"
  }
 },
 "nbformat": 4,
 "nbformat_minor": 5
}
