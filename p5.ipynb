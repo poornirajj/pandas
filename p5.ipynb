{
 "cells": [
  {
   "cell_type": "code",
   "execution_count": null,
   "id": "7827b4cf",
   "metadata": {},
   "outputs": [],
   "source": [
    "import pandas as pd\n",
    "import numpy as np\n",
    "import seaborn as sns\n",
    "import matplotlib.pyplot as plt\n",
    "from matplotlib.colors import LinearSegmentedColormap\n"
   ]
  },
  {
   "cell_type": "code",
   "execution_count": null,
   "id": "fa7929a9",
   "metadata": {},
   "outputs": [],
   "source": [
    "data = {\n",
    "    'AQI': [75, 90, 85, 60, 95, 88, 70, 80],\n",
    "    'Temperature': [22, 25, 23, 20, 26, 24, 21, 23],\n",
    "    'Humidity': [55, 60, 58, 65, 52, 57, 59, 61],\n",
    "    'CO2': [400, 420, 415, 390, 430, 410, 395, 405],\n",
    "    'PM2.5': [35, 40, 38, 30, 45, 37, 33, 39]\n",
    "}\n",
    "df = pd.DataFrame(data)\n"
   ]
  },
  {
   "cell_type": "code",
   "execution_count": null,
   "id": "710605b4",
   "metadata": {},
   "outputs": [],
   "source": [
    "print(\"Missing Values:\\n\", df.isnull().sum())\n"
   ]
  },
  {
   "cell_type": "code",
   "execution_count": null,
   "id": "8d6fd743",
   "metadata": {},
   "outputs": [],
   "source": [
    "df.loc[2, 'Humidity'] = np.nan  # Simulate missing value\n",
    "\n",
    "# Fill with column mean\n",
    "df['Humidity'].fillna(df['Humidity'].mean(), inplace=True)\n"
   ]
  },
  {
   "cell_type": "code",
   "execution_count": null,
   "id": "e8eec418",
   "metadata": {},
   "outputs": [],
   "source": [
    "print(\"\\nCorrelation Matrix:\\n\", correlation_matrix.round(2))\n"
   ]
  },
  {
   "cell_type": "code",
   "execution_count": null,
   "id": "14109764",
   "metadata": {},
   "outputs": [],
   "source": [
    "plt.figure(figsize=(10, 6))\n",
    "sns.heatmap(correlation_matrix, annot=True)\n",
    "plt.title('Correlation Heatmap of Environmental Metrics')\n",
    "plt.show()\n"
   ]
  },
  {
   "cell_type": "code",
   "execution_count": null,
   "id": "655d4a5d",
   "metadata": {},
   "outputs": [],
   "source": [
    "plt.figure(figsize=(10, 6))\n",
    "sns.heatmap(correlation_matrix, annot=True, cmap='coolwarm')\n",
    "plt.title('Coolwarm Heatmap of Environmental Correlations')\n",
    "plt.show()\n"
   ]
  },
  {
   "cell_type": "code",
   "execution_count": null,
   "id": "bf573435",
   "metadata": {},
   "outputs": [],
   "source": [
    "plt.figure(figsize=(10, 6))\n",
    "sns.heatmap(\n",
    "    correlation_matrix,\n",
    "    annot=True,\n",
    "    cmap='viridis',\n",
    "    linewidths=1,\n",
    "    linecolor='black'\n",
    ")\n",
    "plt.title('Styled Environmental Heatmap (Viridis)')\n",
    "plt.show()\n"
   ]
  },
  {
   "cell_type": "code",
   "execution_count": null,
   "id": "3997f8de",
   "metadata": {},
   "outputs": [],
   "source": [
    "# Create a mask for any missing values in correlation matrix\n",
    "mask = correlation_matrix.isnull()\n",
    "\n",
    "plt.figure(figsize=(10, 6))\n",
    "sns.heatmap(correlation_matrix, annot=True, cmap='coolwarm', mask=mask)\n",
    "plt.title('Heatmap with Masked Missing Data')\n",
    "plt.show()\n"
   ]
  },
  {
   "cell_type": "code",
   "execution_count": null,
   "id": "7b3a0443",
   "metadata": {},
   "outputs": [],
   "source": [
    "# Define a custom diverging color map\n",
    "custom_cmap = LinearSegmentedColormap.from_list(\"env_cmap\", [\"#d73027\", \"#ffffbf\", \"#1a9850\"])\n",
    "\n",
    "plt.figure(figsize=(10, 6))\n",
    "sns.heatmap(correlation_matrix, annot=True, cmap=custom_cmap, linewidths=0.5)\n",
    "plt.title('Environmental Correlation Heatmap (Custom Colors)')\n",
    "plt.show()\n"
   ]
  }
 ],
 "metadata": {
  "language_info": {
   "name": "python"
  }
 },
 "nbformat": 4,
 "nbformat_minor": 5
}
