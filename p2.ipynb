{
 "cells": [
  {
   "cell_type": "code",
   "execution_count": 5,
   "id": "a0467658",
   "metadata": {},
   "outputs": [
    {
     "name": "stdout",
     "output_type": "stream",
     "text": [
      "  Employee Department  Salary  Experience\n",
      "0     John         IT   70000           5\n",
      "1    Sarah         HR   50000           3\n",
      "2     Mike    Finance   80000           8\n",
      "3     Anna         IT   75000           6\n",
      "4    David    Finance   85000           9\n",
      "5     Emma         HR   52000           4\n"
     ]
    }
   ],
   "source": [
    "import pandas as pd\n",
    "# Creating Employee Salary DataFrame\n",
    "data = {\n",
    " 'Employee': ['John', 'Sarah', 'Mike', 'Anna', 'David', 'Emma'],\n",
    " 'Department': ['IT', 'HR', 'Finance', 'IT', 'Finance', 'HR'],\n",
    " 'Salary': [70000, 50000, 80000, 75000, 85000, 52000],\n",
    " 'Experience': [5, 3, 8, 6, 9, 4]\n",
    "}\n",
    "df = pd.DataFrame(data)\n",
    "print(df)"
   ]
  },
  {
   "cell_type": "code",
   "execution_count": 6,
   "id": "bb1d4ddf",
   "metadata": {},
   "outputs": [
    {
     "name": "stdout",
     "output_type": "stream",
     "text": [
      "  Employee  Salary Salary Category\n",
      "0     John   70000          Medium\n",
      "1    Sarah   50000             Low\n",
      "2     Mike   80000            High\n",
      "3     Anna   75000          Medium\n",
      "4    David   85000            High\n",
      "5     Emma   52000             Low\n"
     ]
    }
   ],
   "source": [
    "df['Salary Category'] = df['Salary'].apply(lambda x: 'High' if x > 75000 else \n",
    "'Medium' if x > 55000 else 'Low')\n",
    "print(df[['Employee', 'Salary', 'Salary Category']])"
   ]
  },
  {
   "cell_type": "code",
   "execution_count": 7,
   "id": "3a671e3e",
   "metadata": {},
   "outputs": [
    {
     "name": "stdout",
     "output_type": "stream",
     "text": [
      "Department\n",
      "Finance    82500.0\n",
      "HR         51000.0\n",
      "IT         72500.0\n",
      "Name: Salary, dtype: float64\n"
     ]
    }
   ],
   "source": [
    "salary_summary = df.groupby('Department')['Salary'].mean()\n",
    "print(salary_summary)"
   ]
  },
  {
   "cell_type": "code",
   "execution_count": null,
   "id": "a758b2f4",
   "metadata": {},
   "outputs": [
    {
     "name": "stdout",
     "output_type": "stream",
     "text": [
      "Salary Category  High  Low  Medium\n",
      "Department                        \n",
      "Finance           2.0  NaN     NaN\n",
      "HR                NaN  2.0     NaN\n",
      "IT                NaN  NaN     2.0\n"
     ]
    }
   ],
   "source": [
    "pivot = df.pivot_table(values='Salary', index='Department', columns='Salary pCategory', aggfunc='count')\n",
    "print(pivot)"
   ]
  },
  {
   "cell_type": "code",
   "execution_count": 9,
   "id": "adf65425",
   "metadata": {},
   "outputs": [
    {
     "name": "stdout",
     "output_type": "stream",
     "text": [
      "  Employee  Salary\n",
      "4    David   85000\n",
      "2     Mike   80000\n",
      "3     Anna   75000\n",
      "0     John   70000\n",
      "5     Emma   52000\n",
      "1    Sarah   50000\n"
     ]
    }
   ],
   "source": [
    "df_sorted = df.sort_values(by='Salary', ascending=False)\n",
    "print(df_sorted[['Employee', 'Salary']])"
   ]
  }
 ],
 "metadata": {
  "kernelspec": {
   "display_name": "Python 3",
   "language": "python",
   "name": "python3"
  },
  "language_info": {
   "codemirror_mode": {
    "name": "ipython",
    "version": 3
   },
   "file_extension": ".py",
   "mimetype": "text/x-python",
   "name": "python",
   "nbconvert_exporter": "python",
   "pygments_lexer": "ipython3",
   "version": "3.13.5"
  }
 },
 "nbformat": 4,
 "nbformat_minor": 5
}
