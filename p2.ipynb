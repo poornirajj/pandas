{
 "cells": [
  {
   "cell_type": "code",
   "execution_count": 3,
   "id": "38e5db9d",
   "metadata": {},
   "outputs": [],
   "source": [
    "import pandas as pd\n",
    "import numpy as np"
   ]
  },
  {
   "cell_type": "code",
   "execution_count": 4,
   "id": "0ac4f254",
   "metadata": {},
   "outputs": [
    {
     "name": "stdout",
     "output_type": "stream",
     "text": [
      "   Employee_ID   Name Department   Salary Joining_Date\n",
      "0            1   John         IT  60000.0   2021-06-01\n",
      "1            2   Jane         HR  55000.0   2020-09-15\n",
      "2            3   Mike         IT      NaN         None\n",
      "3            4   Sara    Finance  70000.0   2019-12-10\n",
      "4            5  Chris       None  65000.0   2022-07-20\n",
      "5            6   None         IT  60000.0   2023-03-01\n",
      "6            7  David         HR      NaN   2021-01-01\n",
      "7            7  David         HR  70000.0   2021-01-01\n"
     ]
    }
   ],
   "source": [
    "data = {\n",
    " \"Employee_ID\": [1, 2, 3, 4, 5, 6, 7, 7],\n",
    " \"Name\": [\"John\", \"Jane\", \"Mike\", \"Sara\", \"Chris\", None, \"David\", \"David\"], \"Department\": [\"IT\", \"HR\", \"IT\", \"Finance\", None, \"IT\", \"HR\", \"HR\"],\n",
    " \"Salary\": [60000, 55000, None, 70000, 65000, 60000, None, 70000], \"Joining_Date\": [\"2021-06-01\", \"2020-09-15\", None, \"2019-12-10\", \"2022-07-20\", \"2023-03-01\", \"2021-01-01\", \"2021-01-01\"]\n",
    "}\n",
    "df = pd.DataFrame(data)\n",
    "print(df)"
   ]
  },
  {
   "cell_type": "code",
   "execution_count": 5,
   "id": "8e9dfd05",
   "metadata": {},
   "outputs": [
    {
     "name": "stdout",
     "output_type": "stream",
     "text": [
      "Employee_ID     0\n",
      "Name            1\n",
      "Department      1\n",
      "Salary          2\n",
      "Joining_Date    1\n",
      "dtype: int64\n"
     ]
    }
   ],
   "source": [
    "print(df.isnull().sum())"
   ]
  },
  {
   "cell_type": "code",
   "execution_count": 6,
   "id": "97c2d9ff",
   "metadata": {},
   "outputs": [
    {
     "name": "stdout",
     "output_type": "stream",
     "text": [
      "   Employee_ID   Name Department   Salary Joining_Date\n",
      "0            1   John         IT  60000.0   2021-06-01\n",
      "1            2   Jane         HR  55000.0   2020-09-15\n",
      "2            3   Mike         IT  62500.0         None\n",
      "3            4   Sara    Finance  70000.0   2019-12-10\n",
      "4            5  Chris    Unknown  65000.0   2022-07-20\n",
      "5            6   None         IT  60000.0   2023-03-01\n",
      "6            7  David         HR  62500.0   2021-01-01\n",
      "7            7  David         HR  70000.0   2021-01-01\n"
     ]
    },
    {
     "name": "stderr",
     "output_type": "stream",
     "text": [
      "C:\\Users\\Ayyappan\\AppData\\Local\\Temp\\ipykernel_3268\\301338993.py:1: FutureWarning: A value is trying to be set on a copy of a DataFrame or Series through chained assignment using an inplace method.\n",
      "The behavior will change in pandas 3.0. This inplace method will never work because the intermediate object on which we are setting values always behaves as a copy.\n",
      "\n",
      "For example, when doing 'df[col].method(value, inplace=True)', try using 'df.method({col: value}, inplace=True)' or df[col] = df[col].method(value) instead, to perform the operation inplace on the original object.\n",
      "\n",
      "\n",
      "  df[\"Department\"].fillna(\"Unknown\", inplace=True)\n",
      "C:\\Users\\Ayyappan\\AppData\\Local\\Temp\\ipykernel_3268\\301338993.py:2: FutureWarning: A value is trying to be set on a copy of a DataFrame or Series through chained assignment using an inplace method.\n",
      "The behavior will change in pandas 3.0. This inplace method will never work because the intermediate object on which we are setting values always behaves as a copy.\n",
      "\n",
      "For example, when doing 'df[col].method(value, inplace=True)', try using 'df.method({col: value}, inplace=True)' or df[col] = df[col].method(value) instead, to perform the operation inplace on the original object.\n",
      "\n",
      "\n",
      "  df[\"Salary\"].fillna(df[\"Salary\"].median(), inplace=True)\n"
     ]
    }
   ],
   "source": [
    "df[\"Department\"].fillna(\"Unknown\", inplace=True)\n",
    "df[\"Salary\"].fillna(df[\"Salary\"].median(), inplace=True)\n",
    "print(df)"
   ]
  },
  {
   "cell_type": "code",
   "execution_count": 7,
   "id": "20440917",
   "metadata": {},
   "outputs": [
    {
     "name": "stdout",
     "output_type": "stream",
     "text": [
      "Employee_ID              int64\n",
      "Name                    object\n",
      "Department              object\n",
      "Salary                 float64\n",
      "Joining_Date    datetime64[ns]\n",
      "dtype: object\n"
     ]
    }
   ],
   "source": [
    "df[\"Joining_Date\"] = pd.to_datetime(df[\"Joining_Date\"])\n",
    "print(df.dtypes)"
   ]
  },
  {
   "cell_type": "code",
   "execution_count": 8,
   "id": "11e9aba5",
   "metadata": {},
   "outputs": [
    {
     "name": "stdout",
     "output_type": "stream",
     "text": [
      "   Employee_ID   Name Department   Salary Joining_Date\n",
      "0            1   John         IT  60000.0   2021-06-01\n",
      "1            2   Jane         HR  55000.0   2020-09-15\n",
      "2            3   Mike         IT  62500.0          NaT\n",
      "3            4   Sara    Finance  70000.0   2019-12-10\n",
      "4            5  Chris    Unknown  65000.0   2022-07-20\n",
      "5            6   None         IT  60000.0   2023-03-01\n",
      "6            7  David         HR  62500.0   2021-01-01\n",
      "7            7  David         HR  70000.0   2021-01-01\n"
     ]
    }
   ],
   "source": [
    "df = df.drop_duplicates()\n",
    "print(df)"
   ]
  },
  {
   "cell_type": "code",
   "execution_count": 9,
   "id": "9fc31c90",
   "metadata": {},
   "outputs": [
    {
     "name": "stdout",
     "output_type": "stream",
     "text": [
      "   Employee_ID   Name Department  Annual_Salary Start_Date\n",
      "0            1   John         IT        60000.0 2021-06-01\n",
      "1            2   Jane         HR        55000.0 2020-09-15\n",
      "2            3   Mike         IT        62500.0        NaT\n",
      "3            4   Sara    Finance        70000.0 2019-12-10\n",
      "4            5  Chris    Unknown        65000.0 2022-07-20\n"
     ]
    }
   ],
   "source": [
    "df = df.rename(columns={\"Salary\": \"Annual_Salary\", \"Joining_Date\": \n",
    "\"Start_Date\"})\n",
    "print(df.head())"
   ]
  }
 ],
 "metadata": {
  "kernelspec": {
   "display_name": "Python 3",
   "language": "python",
   "name": "python3"
  },
  "language_info": {
   "codemirror_mode": {
    "name": "ipython",
    "version": 3
   },
   "file_extension": ".py",
   "mimetype": "text/x-python",
   "name": "python",
   "nbconvert_exporter": "python",
   "pygments_lexer": "ipython3",
   "version": "3.13.5"
  }
 },
 "nbformat": 4,
 "nbformat_minor": 5
}
