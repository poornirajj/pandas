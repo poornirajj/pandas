{
 "cells": [
  {
   "cell_type": "code",
   "execution_count": null,
   "id": "b58a3e4f",
   "metadata": {},
   "outputs": [],
   "source": [
    "import pandas as pd\n",
    "import seaborn as sns\n",
    "import matplotlib.pyplot as plt\n"
   ]
  },
  {
   "cell_type": "code",
   "execution_count": null,
   "id": "1901b0e0",
   "metadata": {},
   "outputs": [],
   "source": [
    "# Sample sales data\n",
    "sales_data = {\n",
    "    'Sales': [1000, 1500, 1200, 1300, 1100],\n",
    "    'Promotions': [200, 250, 150, 230, 210],\n",
    "    'Store_Location': ['East', 'West', 'North', 'South', 'East']\n",
    "}\n",
    "\n",
    "# Create DataFrame\n",
    "df = pd.DataFrame(sales_data)\n",
    "print(\"Original Data:\\n\", df)\n"
   ]
  },
  {
   "cell_type": "code",
   "execution_count": null,
   "id": "36e5524e",
   "metadata": {},
   "outputs": [],
   "source": [
    "# Map Store_Location to numeric for correlation\n",
    "location_map = {'East': 1, 'West': 2, 'North': 3, 'South': 4}\n",
    "df['Store_Location'] = df['Store_Location'].map(location_map)\n"
   ]
  },
  {
   "cell_type": "code",
   "execution_count": null,
   "id": "14886842",
   "metadata": {},
   "outputs": [],
   "source": [
    "# Calculate correlation\n",
    "correlation_matrix = df.corr()\n",
    "print(\"\\nCorrelation Matrix:\\n\", correlation_matrix)\n"
   ]
  },
  {
   "cell_type": "code",
   "execution_count": null,
   "id": "980dcd11",
   "metadata": {},
   "outputs": [],
   "source": [
    "plt.figure(figsize=(6, 4))\n",
    "sns.heatmap(correlation_matrix, annot=True, cmap='viridis', linewidths=0.5)\n",
    "plt.title('Correlation Matrix of Sales and Promotions')\n",
    "plt.show()\n"
   ]
  },
  {
   "cell_type": "code",
   "execution_count": null,
   "id": "c9618809",
   "metadata": {},
   "outputs": [],
   "source": [
    "plt.figure(figsize=(6, 4))\n",
    "sns.heatmap(\n",
    "    correlation_matrix,\n",
    "    annot=True,\n",
    "    cmap='coolwarm',\n",
    "    linewidths=0.5,\n",
    "    fmt='.2f'\n",
    ")\n",
    "plt.title('Customized Correlation Matrix for Sales Data')\n",
    "plt.show()\n"
   ]
  },
  {
   "cell_type": "code",
   "execution_count": null,
   "id": "01963f9d",
   "metadata": {},
   "outputs": [],
   "source": [
    "# Introduce a missing value\n",
    "df.loc[2, 'Sales'] = None\n",
    "print(\"\\nData with Missing Value:\\n\", df)\n",
    "\n",
    "# Fill missing value with mean\n",
    "df.fillna(df.mean(), inplace=True)\n",
    "print(\"\\nData After Imputation:\\n\", df)\n"
   ]
  },
  {
   "cell_type": "code",
   "execution_count": null,
   "id": "4307a394",
   "metadata": {},
   "outputs": [],
   "source": [
    "plt.figure(figsize=(6, 4))\n",
    "sns.heatmap(\n",
    "    correlation_matrix,\n",
    "    annot=True,\n",
    "    cmap='coolwarm',\n",
    "    linewidths=0.5,\n",
    "    fmt='.2f'\n",
    ")\n",
    "plt.title('Customized Correlation Matrix for Sales Data')\n",
    "plt.show()\n"
   ]
  },
  {
   "cell_type": "code",
   "execution_count": null,
   "id": "dad72299",
   "metadata": {},
   "outputs": [],
   "source": [
    "# Introduce a missing value\n",
    "df.loc[2, 'Sales'] = None\n",
    "print(\"\\nData with Missing Value:\\n\", df)\n",
    "\n",
    "# Fill missing value with mean\n",
    "df.fillna(df.mean(), inplace=True)\n",
    "print(\"\\nData After Imputation:\\n\", df)\n"
   ]
  },
  {
   "cell_type": "code",
   "execution_count": null,
   "id": "f3311581",
   "metadata": {},
   "outputs": [],
   "source": [
    "# Recalculate correlation\n",
    "correlation_matrix = df.corr()\n",
    "\n",
    "# Final heatmap\n",
    "plt.figure(figsize=(6, 4))\n",
    "sns.heatmap(correlation_matrix, annot=True, cmap='Blues', linewidths=0.5)\n",
    "plt.title('Correlation Matrix After Handling Missing Data')\n",
    "plt.show()\n"
   ]
  },
  {
   "cell_type": "code",
   "execution_count": null,
   "id": "4eb1cc0f",
   "metadata": {},
   "outputs": [],
   "source": []
  }
 ],
 "metadata": {
  "language_info": {
   "name": "python"
  }
 },
 "nbformat": 4,
 "nbformat_minor": 5
}
